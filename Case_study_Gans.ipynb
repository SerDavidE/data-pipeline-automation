{
  "nbformat": 4,
  "nbformat_minor": 0,
  "metadata": {
    "colab": {
      "provenance": [],
      "mount_file_id": "1MI_XAgzzdwdHR0kyekvQdMSawuLSlXmG",
      "authorship_tag": "ABX9TyN0Itux0BUeRICqZs0vyO5K",
      "include_colab_link": true
    },
    "kernelspec": {
      "name": "python3",
      "display_name": "Python 3"
    },
    "language_info": {
      "name": "python"
    }
  },
  "cells": [
    {
      "cell_type": "markdown",
      "metadata": {
        "id": "view-in-github",
        "colab_type": "text"
      },
      "source": [
        "<a href=\"https://colab.research.google.com/github/SerDavidE/data-pipeline-automation/blob/main/Case_study_Gans.ipynb\" target=\"_parent\"><img src=\"https://colab.research.google.com/assets/colab-badge.svg\" alt=\"Open In Colab\"/></a>"
      ]
    },
    {
      "cell_type": "code",
      "execution_count": 1,
      "metadata": {
        "id": "EqouwmpU4r2r"
      },
      "outputs": [],
      "source": [
        "# 1. import libraries\n",
        "from bs4 import BeautifulSoup\n",
        "import requests\n",
        "import pandas as pd"
      ]
    },
    {
      "cell_type": "markdown",
      "source": [
        "##To download html files:"
      ],
      "metadata": {
        "id": "jk3-9fK41Muy"
      }
    },
    {
      "cell_type": "code",
      "source": [
        "import requests\n",
        "\n",
        "# Wikipedia URL for the city\n",
        "url = \"https://en.wikipedia.org/wiki/Berlin\"\n",
        "\n",
        "# Send a GET request\n",
        "response = requests.get(url)\n",
        "\n",
        "# The HTML content of the page is contained in response.content\n",
        "\n",
        "# To write this content to a file, you can use the built-in open function with the 'w' flag to write to a file\n",
        "with open('berlin_wikipedia.html', 'w', encoding='utf-8') as f:\n",
        "    f.write(response.text)\n"
      ],
      "metadata": {
        "id": "w96IqvANzehi"
      },
      "execution_count": 2,
      "outputs": []
    },
    {
      "cell_type": "markdown",
      "source": [
        "#Test"
      ],
      "metadata": {
        "id": "kBodJWin1W4D"
      }
    },
    {
      "cell_type": "code",
      "execution_count": 3,
      "metadata": {
        "id": "jCoafcfp4r2r"
      },
      "outputs": [],
      "source": [
        "# 2. find url and store it in a variable\n",
        "url = \"https://en.wikipedia.org/wiki/Berlin\""
      ]
    },
    {
      "cell_type": "code",
      "execution_count": 4,
      "metadata": {
        "id": "WXa8oy2w4r2s",
        "colab": {
          "base_uri": "https://localhost:8080/"
        },
        "outputId": "0e56d97c-5bc9-4d89-f2ca-5a6c24617b2a"
      },
      "outputs": [
        {
          "output_type": "execute_result",
          "data": {
            "text/plain": [
              "200"
            ]
          },
          "metadata": {},
          "execution_count": 4
        }
      ],
      "source": [
        "# now, we know we can access with our code (robot) to the website safely.\n",
        "# Let's go to it :)\n",
        "# 3. download html with a get request\n",
        "response = requests.get(url)\n",
        "response.status_code # 200 status code means OK!"
      ]
    },
    {
      "cell_type": "code",
      "execution_count": 5,
      "metadata": {
        "jupyter": {
          "outputs_hidden": true
        },
        "id": "XQI6Vwmy4r2s"
      },
      "outputs": [],
      "source": [
        "# 4.1. parse html (create the 'soup')\n",
        "soup = BeautifulSoup(response.content, \"html.parser\")\n",
        "# 4.2. check that the html code looks like it should\n",
        "\n",
        "# print(soup.prettify())"
      ]
    },
    {
      "cell_type": "code",
      "source": [
        "table = soup.find('table')"
      ],
      "metadata": {
        "id": "zcNu25N4vz9_"
      },
      "execution_count": 6,
      "outputs": []
    },
    {
      "cell_type": "code",
      "source": [
        "for row in table.find_all('tr'):\n",
        "    headers = row.find_all('th')\n",
        "    for header in headers:\n",
        "        if '• City/State' in header.text:\n",
        "            data = row.find('td').text\n",
        "            print(data)"
      ],
      "metadata": {
        "id": "GQ-cf07Jw44q"
      },
      "execution_count": 24,
      "outputs": []
    },
    {
      "cell_type": "code",
      "source": [
        "header = soup.select_one('th:-soup-contains(\"City/State\")')\n",
        "if header:\n",
        "    data = header.find_next_sibling('td').text\n",
        "    print(data)"
      ],
      "metadata": {
        "id": "a7tW-68_yTyL"
      },
      "execution_count": 25,
      "outputs": []
    },
    {
      "cell_type": "code",
      "source": [
        "for row in table.find_all('tr'):\n",
        "    headers = row.find_all('th')\n",
        "    data = [header.text for header in headers]\n",
        "    print(data)"
      ],
      "metadata": {
        "id": "RwMjTESOvsmC",
        "colab": {
          "base_uri": "https://localhost:8080/"
        },
        "outputId": "c4d64bc9-4f0b-40e1-fba5-631f7e7f88d2"
      },
      "execution_count": 27,
      "outputs": [
        {
          "output_type": "stream",
          "name": "stdout",
          "text": [
            "['Paris']\n",
            "[]\n",
            "[]\n",
            "[]\n",
            "[]\n",
            "[]\n",
            "[]\n",
            "[]\n",
            "['Country']\n",
            "['Region']\n",
            "['Department']\n",
            "['Intercommunality']\n",
            "['Subdivisions']\n",
            "['Government']\n",
            "['\\xa0•\\xa0Mayor (2020–2026) ']\n",
            "['Area1']\n",
            "['\\xa0•\\xa0Urban\\xa0(2020)']\n",
            "['\\xa0•\\xa0Metro\\xa0(2020)']\n",
            "['Population\\xa0(2023)[2]']\n",
            "['\\xa0•\\xa0Density']\n",
            "['\\xa0•\\xa0Urban\\xa0(2019[3])']\n",
            "['\\xa0•\\xa0Urban\\xa0density']\n",
            "['\\xa0•\\xa0Metro\\xa0(Jan.\\xa02017[4])']\n",
            "['\\xa0•\\xa0Metro\\xa0density']\n",
            "['Demonym(s)']\n",
            "['Time zone']\n",
            "['\\xa0•\\xa0Summer (DST)']\n",
            "['INSEE/Postal code']\n",
            "['Elevation']\n",
            "['Website']\n",
            "[]\n"
          ]
        }
      ]
    },
    {
      "cell_type": "code",
      "source": [
        "# Find the table in the soup\n",
        "table = soup.find('table')\n",
        "\n",
        "# Create a list to store the table data\n",
        "data = []\n",
        "\n",
        "# Find all the rows in the table\n",
        "rows = table.find_all('tr')"
      ],
      "metadata": {
        "id": "EizIDVqeur60"
      },
      "execution_count": 28,
      "outputs": []
    },
    {
      "cell_type": "code",
      "source": [
        "rows"
      ],
      "metadata": {
        "id": "3ZemuNxhu7SL"
      },
      "execution_count": null,
      "outputs": []
    },
    {
      "cell_type": "code",
      "source": [
        "# Loop through each row\n",
        "for row in rows:\n",
        "    # Find all the columns in the row\n",
        "    cols = row.find_all('td')\n",
        "\n",
        "    # Get the text from the columns\n",
        "    cols = [col.text.strip() for col in cols]\n",
        "\n",
        "    # Add the columns to the data array\n",
        "    data.append(cols)\n",
        "\n",
        "# Convert the list into a DataFrame\n",
        "df = pd.DataFrame(data)\n",
        "\n",
        "print(df)"
      ],
      "metadata": {
        "id": "2CJgueJ5u21U",
        "colab": {
          "base_uri": "https://localhost:8080/"
        },
        "outputId": "bf112f1e-77fb-4d55-ccdf-96ec8f5c7f09"
      },
      "execution_count": 30,
      "outputs": [
        {
          "output_type": "stream",
          "name": "stdout",
          "text": [
            "                                                    0\n",
            "0                                                None\n",
            "1               Capital city, commune, and department\n",
            "2   Eiffel Tower and the Seine from Tour Saint-Jac...\n",
            "3                                    FlagCoat of arms\n",
            "4   Motto(s): Fluctuat nec mergitur\"Tossed by the ...\n",
            "5                                   Location of Paris\n",
            "6   ParisShow map of FranceParisShow map of Île-de...\n",
            "7   Coordinates: 48°51′24″N 2°21′8″E﻿ / ﻿48.85667°...\n",
            "8                                              France\n",
            "9                                       Île-de-France\n",
            "10                                              Paris\n",
            "11                           Métropole du Grand Paris\n",
            "12                                 20 arrondissements\n",
            "13                                               None\n",
            "14                               Anne Hidalgo[1] (PS)\n",
            "15                             105.4 km2 (40.7 sq mi)\n",
            "16                        2,853.5 km2 (1,101.7 sq mi)\n",
            "17                       18,940.7 km2 (7,313.0 sq mi)\n",
            "18                                          2,102,650\n",
            "19                          20,000/km2 (52,000/sq mi)\n",
            "20                                         10,858,852\n",
            "21                            3,800/km2 (9,900/sq mi)\n",
            "22                                         13,024,518\n",
            "23                              690/km2 (1,800/sq mi)\n",
            "24  Parisian(s) (en) Parisien(s) (masc.), Parisien...\n",
            "25                                    UTC+01:00 (CET)\n",
            "26                                   UTC+02:00 (CEST)\n",
            "27                          75056 /75001-75020, 75116\n",
            "28         28–131 m (92–430 ft) (avg. 78 m or 256 ft)\n",
            "29                                       www.paris.fr\n",
            "30  1 French Land Register data, which excludes la...\n"
          ]
        }
      ]
    },
    {
      "cell_type": "code",
      "source": [
        "import requests\n",
        "from bs4 import BeautifulSoup\n",
        "import pandas as pd\n",
        "\n",
        "# List of cities to scrape\n",
        "cities = ['Berlin', 'Madrid', 'Paris']\n",
        "\n",
        "# DataFrame to store the results\n",
        "df = pd.DataFrame(columns=['City', 'Area', 'Metro', 'Coordinates'])\n",
        "\n",
        "for city in cities:\n",
        "    # Wikipedia URL for the city\n",
        "    url = f\"https://en.wikipedia.org/wiki/{city}\"\n",
        "\n",
        "    # Send a GET request\n",
        "    response = requests.get(url)\n",
        "\n",
        "    # Parse the HTML content\n",
        "    soup = BeautifulSoup(response.content, 'html.parser')\n",
        "\n",
        "    # Find the table that contains the infobox data\n",
        "    table = soup.find('table', {'class': 'infobox ib-settlement vcard'})\n",
        "\n",
        "    # Get metro population\n",
        "    metro_row = table.find('a', string='Metro')\n",
        "    if metro_row is not None:\n",
        "      metro = metro_row.find_next('td', class_=\"infobox-data\").get_text(strip=True)\n",
        "    else:\n",
        "      metro = 'N/A'\n",
        "\n",
        "    # Get city/state\n",
        "    city_state_row = soup.select_one('th:-soup-contains(\"City/State\")')\n",
        "    if city_state_row is not None:\n",
        "        city_state = city_state_row.find_next_sibling('td').get_text(strip=True)\n",
        "    else:\n",
        "        city_state = 'N/A'\n",
        "\n",
        "    # Get capital city\n",
        "    capital_city_row = soup.select_one('th:contains(\"Capital City\")')\n",
        "    if capital_city_row is not None:\n",
        "        capital_city = capital_city_row.find_next_sibling('td').get_text(strip=True)\n",
        "    else:\n",
        "        capital_city = 'N/A'\n",
        "\n",
        "    # Get urban area\n",
        "    urban_area_row = soup.select_one('th:contains(\"Urban\")')\n",
        "    if urban_area_row is not None:\n",
        "        urban_area = urban_area_row.find_next_sibling('td').get_text(strip=True)\n",
        "    else:\n",
        "        urban_area = 'N/A'\n",
        "\n",
        "\n",
        "    # Get area\n",
        "    area_row = table.find('th', string='Area')\n",
        "    if area_row is not None:\n",
        "        area = area_row.find_next_sibling('td', class_=\"infobox-data\").get_text(strip=True)\n",
        "    else:\n",
        "        area = 'N/A'\n",
        "\n",
        "    # Get coordinates\n",
        "    coordinates = table.find('span', {'class': 'geo'}).get_text(strip=True)\n",
        "\n",
        "    # Add the data to the DataFrame\n",
        "    data_to_add = pd.DataFrame({'City': [city],\n",
        "                                'Metro': [metro],\n",
        "                                'Area': [city_state],\n",
        "                                #'Area': [area],\n",
        "                                'Coordinates': [coordinates]})\n",
        "    df = pd.concat([df, data_to_add])\n",
        "\n",
        "# Reset the DataFrame index\n",
        "df.reset_index(drop=True, inplace=True)\n",
        "\n",
        "# Print the DataFrame\n",
        "print(df)\n"
      ],
      "metadata": {
        "colab": {
          "base_uri": "https://localhost:8080/"
        },
        "id": "KYD44g6kVXbM",
        "outputId": "1f5e0bd1-763a-45e1-ae76-b43aa641b147"
      },
      "execution_count": 9,
      "outputs": [
        {
          "output_type": "stream",
          "name": "stderr",
          "text": [
            "/usr/local/lib/python3.10/dist-packages/soupsieve/css_parser.py:856: FutureWarning: The pseudo class ':contains' is deprecated, ':-soup-contains' should be used moving forward.\n",
            "  warnings.warn(  # noqa: B028\n"
          ]
        },
        {
          "output_type": "stream",
          "name": "stdout",
          "text": [
            "     City                    Area         Metro         Coordinates\n",
            "0  Berlin  891.3 km2(344.1 sq mi)     6,144,600  52.52000; 13.40500\n",
            "1  Madrid                     N/A  6,791,667[1]  40.41694; -3.70333\n",
            "2   Paris                     N/A    13,024,518   48.85667; 2.35222\n"
          ]
        }
      ]
    },
    {
      "cell_type": "code",
      "source": [
        "import requests\n",
        "from bs4 import BeautifulSoup\n",
        "import pandas as pd\n",
        "\n",
        "# List of cities to scrape\n",
        "cities = ['Berlin', 'Madrid', 'Paris']\n",
        "\n",
        "# DataFrame to store the results\n",
        "df = pd.DataFrame(columns=['City', 'Population', 'Area', 'Coordinates'])\n",
        "\n",
        "for city in cities:\n",
        "    # Wikipedia URL for the city\n",
        "    url = f\"https://en.wikipedia.org/wiki/{city}\"\n",
        "\n",
        "    # Send a GET request\n",
        "    response = requests.get(url)\n",
        "\n",
        "    # Parse the HTML content\n",
        "    soup = BeautifulSoup(response.content, 'html.parser')\n",
        "\n",
        "    # Find the table that contains the infobox data\n",
        "    table = soup.find('table', {'class': 'infobox ib-settlement vcard'})\n",
        "    if table is None:\n",
        "        print(f\"Could not find info box table for {city}. Skipping this city.\")\n",
        "        continue\n",
        "\n",
        "    # Get population\n",
        "    population_row = table.find('th', string='•\\xa0City/State')\n",
        "    if population_row is not None:\n",
        "        population = population_row.find_next_sibling('td').get_text(strip=True)\n",
        "    else:\n",
        "        population = 'N/A'\n",
        "\n",
        "    # Get area\n",
        "    area_row = table.find('th', string='Area')\n",
        "    if area_row is not None:\n",
        "        area = area_row.find_next_sibling('td').get_text(strip=True)\n",
        "    else:\n",
        "        area = 'N/A'\n",
        "\n",
        "    # Get coordinates\n",
        "    coordinates = table.find('span', {'class': 'geo'}).get_text(strip=True)\n",
        "\n",
        "    # Add the data to the DataFrame\n",
        "    data_to_add = pd.DataFrame({'City': [city],\n",
        "                                'Population': [population],\n",
        "                                'Area': [area],\n",
        "                                'Coordinates': [coordinates]})\n",
        "    df = pd.concat([df, data_to_add])\n",
        "\n",
        "# Reset the DataFrame index\n",
        "df.reset_index(drop=True, inplace=True)\n",
        "\n",
        "# Print the DataFrame\n",
        "print(df)\n"
      ],
      "metadata": {
        "colab": {
          "base_uri": "https://localhost:8080/"
        },
        "id": "ee2gncZPUUPu",
        "outputId": "2588ae8c-ff17-4812-b82e-d2962b69db68"
      },
      "execution_count": 10,
      "outputs": [
        {
          "output_type": "stream",
          "name": "stdout",
          "text": [
            "     City Population Area         Coordinates\n",
            "0  Berlin        N/A  N/A  52.52000; 13.40500\n",
            "1  Madrid        N/A  N/A  40.41694; -3.70333\n",
            "2   Paris        N/A  N/A   48.85667; 2.35222\n"
          ]
        }
      ]
    },
    {
      "cell_type": "code",
      "source": [
        "for s in soup.select(\"table.infobox tbody tr th\"):\n",
        "    if s.text.startswith(\"City/State\"):\n",
        "        print(s.find_next_sibling(\"td\")[0].text)"
      ],
      "metadata": {
        "id": "HIQr08tLRKYt"
      },
      "execution_count": 11,
      "outputs": []
    },
    {
      "cell_type": "code",
      "source": [
        "# Get population\n",
        "population_row = table.find('th', text='•\\xa0City/State')\n",
        "if population_row is not None:\n",
        "    population = population_row.find_next_sibling('td').get_text(strip=True)\n",
        "else:\n",
        "    population = 'N/A'"
      ],
      "metadata": {
        "id": "3HcJ_7z4TP83",
        "colab": {
          "base_uri": "https://localhost:8080/"
        },
        "outputId": "a8b19382-3026-4f92-ed0c-65793cb38190"
      },
      "execution_count": 12,
      "outputs": [
        {
          "output_type": "stream",
          "name": "stderr",
          "text": [
            "<ipython-input-12-e4541dc90c1e>:2: DeprecationWarning: The 'text' argument to find()-type methods is deprecated. Use 'string' instead.\n",
            "  population_row = table.find('th', text='•\\xa0City/State')\n"
          ]
        }
      ]
    },
    {
      "cell_type": "code",
      "source": [
        "soup.select(\"table.infobox ib-settlement vcard\")"
      ],
      "metadata": {
        "colab": {
          "base_uri": "https://localhost:8080/"
        },
        "id": "c2YtswOs3S-D",
        "outputId": "2d588e75-7b2c-4cb7-d27f-dc1364c444db"
      },
      "execution_count": 13,
      "outputs": [
        {
          "output_type": "execute_result",
          "data": {
            "text/plain": [
              "[]"
            ]
          },
          "metadata": {},
          "execution_count": 13
        }
      ]
    },
    {
      "cell_type": "code",
      "execution_count": 14,
      "metadata": {
        "jupyter": {
          "outputs_hidden": true
        },
        "id": "iNs9Sa_C4r2u",
        "colab": {
          "base_uri": "https://localhost:8080/"
        },
        "outputId": "95475d07-e522-48d1-8da8-d093b0e4500a"
      },
      "outputs": [
        {
          "output_type": "execute_result",
          "data": {
            "text/plain": [
              "[<th class=\"infobox-header\" colspan=\"2\">Government<div class=\"ib-settlement-fn\"></div></th>]"
            ]
          },
          "metadata": {},
          "execution_count": 14
        }
      ],
      "source": [
        "soup.select(\"th.infobox-header\")"
      ]
    },
    {
      "cell_type": "code",
      "execution_count": 15,
      "metadata": {
        "jupyter": {
          "outputs_hidden": true
        },
        "id": "XaJ7_YGD4r2u",
        "colab": {
          "base_uri": "https://localhost:8080/"
        },
        "outputId": "79b81243-32a8-4c03-bf48-af6237b08ec4"
      },
      "outputs": [
        {
          "output_type": "execute_result",
          "data": {
            "text/plain": [
              "[<td class=\"infobox-data\"><a href=\"/wiki/France\" title=\"France\">France</a></td>,\n",
              " <td class=\"infobox-data\"><a href=\"/wiki/%C3%8Ele-de-France\" title=\"Île-de-France\">Île-de-France</a></td>,\n",
              " <td class=\"infobox-data\">Paris</td>,\n",
              " <td class=\"infobox-data\"><a href=\"/wiki/Grand_Paris\" title=\"Grand Paris\">Métropole du Grand Paris</a></td>,\n",
              " <td class=\"infobox-data\">20 <a href=\"/wiki/Arrondissements_of_Paris\" title=\"Arrondissements of Paris\">arrondissements</a></td>,\n",
              " <td class=\"infobox-data\"><a href=\"/wiki/Anne_Hidalgo\" title=\"Anne Hidalgo\">Anne Hidalgo</a><sup class=\"reference\" id=\"cite_ref-1\"><a href=\"#cite_note-1\">[1]</a></sup> (<a href=\"/wiki/Socialist_Party_(France)\" title=\"Socialist Party (France)\">PS</a>)</td>,\n",
              " <td class=\"infobox-data\">105.4 km<sup>2</sup> (40.7 sq mi)</td>,\n",
              " <td class=\"infobox-data\">2,853.5 km<sup>2</sup> (1,101.7 sq mi)</td>,\n",
              " <td class=\"infobox-data\">18,940.7 km<sup>2</sup> (7,313.0 sq mi)</td>,\n",
              " <td class=\"infobox-data\">2,102,650</td>,\n",
              " <td class=\"infobox-data\">20,000/km<sup>2</sup> (52,000/sq mi)</td>,\n",
              " <td class=\"infobox-data\">10,858,852</td>,\n",
              " <td class=\"infobox-data\">3,800/km<sup>2</sup> (9,900/sq mi)</td>,\n",
              " <td class=\"infobox-data\">13,024,518</td>,\n",
              " <td class=\"infobox-data\">690/km<sup>2</sup> (1,800/sq mi)</td>,\n",
              " <td class=\"infobox-data\">Parisian(s) (<a href=\"/wiki/English_language\" title=\"English language\">en</a>) <i>Parisien(s)</i> (masc.), <i>Parisienne(s)</i> (fem.) (<a href=\"/wiki/French_language\" title=\"French language\">fr</a>), <i>Parigot(s)</i> (masc.), \"Parigote(s)\" (fem.) (fr, colloquial)</td>,\n",
              " <td class=\"infobox-data\"><a href=\"/wiki/UTC%2B01:00\" title=\"UTC+01:00\">UTC+01:00</a> (<a href=\"/wiki/Central_European_Time\" title=\"Central European Time\">CET</a>)</td>,\n",
              " <td class=\"infobox-data\"><a href=\"/wiki/UTC%2B02:00\" title=\"UTC+02:00\">UTC+02:00</a> (<a href=\"/wiki/Central_European_Summer_Time\" title=\"Central European Summer Time\">CEST</a>)</td>,\n",
              " <td class=\"infobox-data adr\"><div class=\"postal-code\"><a class=\"external text\" href=\"https://www.insee.fr/fr/statistiques/1405599?geo=COM-75056\" rel=\"nofollow\">75056</a> /75001-75020, 75116</div></td>,\n",
              " <td class=\"infobox-data\">28–131 m (92–430 ft) <br/>(avg. 78 m or 256 ft)</td>,\n",
              " <td class=\"infobox-data\"><span class=\"url\"><a class=\"external text\" href=\"http://www.paris.fr\" rel=\"nofollow\">www<wbr/>.paris<wbr/>.fr</a></span></td>]"
            ]
          },
          "metadata": {},
          "execution_count": 15
        }
      ],
      "source": [
        "soup.select(\"td.infobox-data\")"
      ]
    },
    {
      "cell_type": "code",
      "source": [
        "soup.select(\"table.infobox.ib-settlement.vcard\")[0].get_text()"
      ],
      "metadata": {
        "id": "kdrIabGm4Ncx",
        "colab": {
          "base_uri": "https://localhost:8080/",
          "height": 87
        },
        "outputId": "763b1758-d653-40f8-ce7e-7aa8b5346ae7"
      },
      "execution_count": 16,
      "outputs": [
        {
          "output_type": "execute_result",
          "data": {
            "text/plain": [
              "'ParisCapital city, commune, and departmentEiffel Tower and the Seine from Tour Saint-JacquesNotre-DameSacré-CœurPanthéonArc de TriomphePalais GarnierThe Louvre\\n\\nFlagCoat of armsMotto(s):\\xa0Fluctuat nec mergitur\"Tossed by the waves but never sunk\"Location of Paris\\nParisShow map of FranceParisShow map of Île-de-France (region)Coordinates: 48°51′24″N 2°21′8″E\\ufeff / \\ufeff48.85667°N 2.35222°E\\ufeff / 48.85667; 2.35222CountryFranceRegionÎle-de-FranceDepartmentParisIntercommunalityMétropole du Grand ParisSubdivisions20 arrondissementsGovernment\\xa0•\\xa0Mayor (2020–2026) Anne Hidalgo[1] (PS)Area1105.4\\xa0km2 (40.7\\xa0sq\\xa0mi)\\xa0•\\xa0Urban\\xa0(2020)2,853.5\\xa0km2 (1,101.7\\xa0sq\\xa0mi)\\xa0•\\xa0Metro\\xa0(2020)18,940.7\\xa0km2 (7,313.0\\xa0sq\\xa0mi)Population\\xa0(2023)[2]2,102,650\\xa0•\\xa0Density20,000/km2 (52,000/sq\\xa0mi)\\xa0•\\xa0Urban\\xa0(2019[3])10,858,852\\xa0•\\xa0Urban\\xa0density3,800/km2 (9,900/sq\\xa0mi)\\xa0•\\xa0Metro\\xa0(Jan.\\xa02017[4])13,024,518\\xa0•\\xa0Metro\\xa0density690/km2 (1,800/sq\\xa0mi)Demonym(s)Parisian(s) (en) Parisien(s) (masc.), Parisienne(s) (fem.) (fr), Parigot(s) (masc.), \"Parigote(s)\" (fem.) (fr, colloquial)Time zoneUTC+01:00 (CET)\\xa0•\\xa0Summer (DST)UTC+02:00 (CEST)INSEE/Postal code75056 /75001-75020, 75116Elevation28–131\\xa0m (92–430\\xa0ft) (avg. 78\\xa0m or 256\\xa0ft)Websitewww.paris.fr1 French Land Register data, which excludes lakes, ponds, glaciers > 1\\xa0km2 (0.386\\xa0sq\\xa0mi or 247 acres) and river estuaries.'"
            ],
            "application/vnd.google.colaboratory.intrinsic+json": {
              "type": "string"
            }
          },
          "metadata": {},
          "execution_count": 16
        }
      ]
    },
    {
      "cell_type": "code",
      "source": [
        "soup.select(\"table.infobox tbody tr td\")[0].get_text()"
      ],
      "metadata": {
        "colab": {
          "base_uri": "https://localhost:8080/",
          "height": 35
        },
        "id": "8TDV7i3x3mGP",
        "outputId": "9d5b93b1-c939-45cf-a679-031c7da665ee"
      },
      "execution_count": 17,
      "outputs": [
        {
          "output_type": "execute_result",
          "data": {
            "text/plain": [
              "'Capital city, commune, and department'"
            ],
            "application/vnd.google.colaboratory.intrinsic+json": {
              "type": "string"
            }
          },
          "metadata": {},
          "execution_count": 17
        }
      ]
    },
    {
      "cell_type": "code",
      "execution_count": 18,
      "metadata": {
        "id": "0SaqchYg4r2u",
        "colab": {
          "base_uri": "https://localhost:8080/",
          "height": 35
        },
        "outputId": "1a0354d3-161f-4bcd-87e6-06ad9ccddae7"
      },
      "outputs": [
        {
          "output_type": "execute_result",
          "data": {
            "text/plain": [
              "'Government'"
            ],
            "application/vnd.google.colaboratory.intrinsic+json": {
              "type": "string"
            }
          },
          "metadata": {},
          "execution_count": 18
        }
      ],
      "source": [
        "# we can use .get_text() to extract the content of the tags we selected\n",
        "# we'll need to do it to each tag with a for loop: here we do it to the first one\n",
        "soup.select(\"th.infobox-header\")[0].get_text()"
      ]
    },
    {
      "cell_type": "code",
      "execution_count": 19,
      "metadata": {
        "id": "t7mtG39n4r2u",
        "colab": {
          "base_uri": "https://localhost:8080/",
          "height": 35
        },
        "outputId": "0ced440e-373d-4448-ba3a-a4db998154b4"
      },
      "outputs": [
        {
          "output_type": "execute_result",
          "data": {
            "text/plain": [
              "'France'"
            ],
            "application/vnd.google.colaboratory.intrinsic+json": {
              "type": "string"
            }
          },
          "metadata": {},
          "execution_count": 19
        }
      ],
      "source": [
        "# the rating are inside a 'td' tag\n",
        "soup.select(\"td.infobox-data\")[0].get_text()"
      ]
    },
    {
      "cell_type": "code",
      "source": [
        "geo"
      ],
      "metadata": {
        "colab": {
          "base_uri": "https://localhost:8080/"
        },
        "id": "939sHwZG6pTg",
        "outputId": "0f418838-c4eb-46c3-e1d1-b3e44b931882"
      },
      "execution_count": 32,
      "outputs": [
        {
          "output_type": "execute_result",
          "data": {
            "text/plain": [
              "<span class=\"geo\">48.85667; 2.35222</span>"
            ]
          },
          "metadata": {},
          "execution_count": 32
        }
      ]
    },
    {
      "cell_type": "markdown",
      "metadata": {
        "id": "wm6Vde3w4r2u"
      },
      "source": [
        "### Storing information in lists"
      ]
    },
    {
      "cell_type": "code",
      "source": [
        "# Initialize empty lists\n",
        "city_names = []\n",
        "countries = []\n",
        "latitudes = []\n",
        "longitudes = []\n",
        "populations = []\n",
        "\n",
        "num_iter = len(soup.select(\"th\"))"
      ],
      "metadata": {
        "id": "tGA5og5RxVia"
      },
      "execution_count": 21,
      "outputs": []
    },
    {
      "cell_type": "code",
      "source": [
        "print(f'City Names: {len(city_names)}')\n",
        "print(f'Countries: {len(countries)}')\n",
        "print(f'Latitudes: {len(latitudes)}')\n",
        "print(f'Longitudes: {len(longitudes)}')\n",
        "print(f'Populations: {len(populations)}')"
      ],
      "metadata": {
        "colab": {
          "base_uri": "https://localhost:8080/"
        },
        "id": "zz8IoenKutHr",
        "outputId": "ba489a36-7e5d-4915-f65e-0875346669b5"
      },
      "execution_count": 34,
      "outputs": [
        {
          "output_type": "stream",
          "name": "stdout",
          "text": [
            "City Names: 0\n",
            "Countries: 0\n",
            "Latitudes: 0\n",
            "Longitudes: 0\n",
            "Populations: 0\n"
          ]
        }
      ]
    },
    {
      "cell_type": "code",
      "source": [
        "# Check that all lists are of the same length before creating a DataFrame\n",
        "assert len(city_names) == len(countries) == len(latitudes) == len(longitudes) == len(populations)\n",
        "\n",
        "# Storing information in a pandas DataFrame\n",
        "df = pd.DataFrame({\n",
        "    'City Name': city_names,\n",
        "    'Country': countries,\n",
        "    'Latitude': latitudes,\n",
        "    'Longitude': longitudes,\n",
        "    'Population': populations\n",
        "})\n",
        "\n",
        "print(df)"
      ],
      "metadata": {
        "id": "E4yxXU951UCd",
        "colab": {
          "base_uri": "https://localhost:8080/"
        },
        "outputId": "ababf66c-1c2d-4cf9-c9ba-7b293822d417"
      },
      "execution_count": 35,
      "outputs": [
        {
          "output_type": "stream",
          "name": "stdout",
          "text": [
            "Empty DataFrame\n",
            "Columns: [City Name, Country, Latitude, Longitude, Population]\n",
            "Index: []\n"
          ]
        }
      ]
    },
    {
      "cell_type": "code",
      "source": [
        "import requests\n",
        "from bs4 import BeautifulSoup\n",
        "import re\n",
        "\n",
        "cities = ['Berlin','Vienna','Rome','Paris','Barcelona','Prague','Budapest','Madrid','Athens']\n",
        "for c in cities:\n",
        "  page = requests.get(f'https://en.wikipedia.org/wiki/{c}')\n",
        "  soup = BeautifulSoup(page.text,'html.parser')\n",
        "  print(c)\n",
        "  print(max(list(map(lambda tag: int(tag.text.split('[')[0].replace(',','')) ,soup.find('table',class_='infobox ib-settlement vcard').find('tbody').find_all(lambda tag: re.search(\"^\\d{1,3},\\d{3},\\d{3}\",tag.text), recursive=True)))))"
      ],
      "metadata": {
        "colab": {
          "base_uri": "https://localhost:8080/"
        },
        "id": "KTDbYb3kRTEV",
        "outputId": "a2f33cff-3a84-4774-95e5-2f181dbff199"
      },
      "execution_count": 36,
      "outputs": [
        {
          "output_type": "stream",
          "name": "stdout",
          "text": [
            "Berlin\n",
            "6144600\n",
            "Vienna\n",
            "2890577\n",
            "Rome\n",
            "4342212\n",
            "Paris\n",
            "13024518\n",
            "Barcelona\n",
            "5474482\n",
            "Prague\n",
            "2709418\n",
            "Budapest\n",
            "3011598\n",
            "Madrid\n",
            "6791667\n",
            "Athens\n",
            "3638281\n"
          ]
        }
      ]
    },
    {
      "cell_type": "markdown",
      "source": [
        "#New"
      ],
      "metadata": {
        "id": "TxWF49PA60M6"
      }
    },
    {
      "cell_type": "code",
      "source": [
        "import requests\n",
        "\n",
        "name = 'Berlin'\n",
        "api_url = 'https://api.api-ninjas.com/v1/city?name={}'.format(name)\n",
        "response = requests.get(api_url, headers={'X-Api-Key': 'XXXX'})\n",
        "if response.status_code == requests.codes.ok:\n",
        "    print(response.text)\n",
        "else:\n",
        "    print(\"Error:\", response.status_code, response.text)"
      ],
      "metadata": {
        "colab": {
          "base_uri": "https://localhost:8080/"
        },
        "id": "ITyY-LXd62g2",
        "outputId": "532a624d-fcf1-4485-df05-3218898a027c"
      },
      "execution_count": 40,
      "outputs": [
        {
          "output_type": "stream",
          "name": "stdout",
          "text": [
            "[{\"name\": \"Berlin\", \"latitude\": 52.5167, \"longitude\": 13.3833, \"country\": \"DE\", \"population\": 3644826, \"is_capital\": true}]\n"
          ]
        }
      ]
    },
    {
      "cell_type": "markdown",
      "source": [
        "#API Test Weather"
      ],
      "metadata": {
        "id": "LXfFci78e1QH"
      }
    },
    {
      "cell_type": "code",
      "source": [
        "import pandas as pd\n",
        "import requests\n",
        "import json"
      ],
      "metadata": {
        "id": "_DbALBa8e51C"
      },
      "execution_count": 45,
      "outputs": []
    },
    {
      "cell_type": "code",
      "source": [
        "from IPython.display import JSON\n",
        "display(JSON)"
      ],
      "metadata": {
        "id": "DoreO3hH2eep",
        "colab": {
          "base_uri": "https://localhost:8080/",
          "height": 34
        },
        "outputId": "fea451f1-63d2-4e8c-b136-370809e8b350"
      },
      "execution_count": 46,
      "outputs": [
        {
          "output_type": "display_data",
          "data": {
            "text/plain": [
              "IPython.core.display.JSON"
            ]
          },
          "metadata": {}
        }
      ]
    },
    {
      "cell_type": "code",
      "source": [
        "weather = requests.get(\"https://openweathermap.org/\")\n",
        "weather"
      ],
      "metadata": {
        "colab": {
          "base_uri": "https://localhost:8080/"
        },
        "id": "llxHaTeOe5kd",
        "outputId": "8fc8ffef-4dc7-44b6-9463-df5152d93142"
      },
      "execution_count": 47,
      "outputs": [
        {
          "output_type": "execute_result",
          "data": {
            "text/plain": [
              "<Response [200]>"
            ]
          },
          "metadata": {},
          "execution_count": 47
        }
      ]
    },
    {
      "cell_type": "code",
      "source": [
        "cities = ['Berlin', 'Madrid', 'Paris']"
      ],
      "metadata": {
        "id": "xiOfrKj5iOTr"
      },
      "execution_count": 48,
      "outputs": []
    },
    {
      "cell_type": "code",
      "source": [
        "API_key = ['XXX']"
      ],
      "metadata": {
        "id": "R8MsyHIVimnq"
      },
      "execution_count": 49,
      "outputs": []
    },
    {
      "cell_type": "code",
      "source": [
        "weather = requests.get(f\"http://api.openweathermap.org/data/2.5/forecast?q={city}&appid={API_key}&units=metric\")"
      ],
      "metadata": {
        "id": "TyGtsZwzhbul"
      },
      "execution_count": 50,
      "outputs": []
    },
    {
      "cell_type": "code",
      "source": [
        "import requests\n",
        "import pandas as pd\n",
        "\n",
        "def get_weather(cities, API_key):\n",
        "    # Initialize empty lists for our data\n",
        "    city_names = []\n",
        "    temps = []\n",
        "    humidities = []\n",
        "    pressures = []\n",
        "    weather_descriptions = []\n",
        "\n",
        "    for city in cities:\n",
        "        # Make the API call\n",
        "        response = requests.get(f\"http://api.openweathermap.org/data/2.5/weather?q={city}&appid={API_key}&units=metric\")\n",
        "\n",
        "        # Check if the request was successful\n",
        "        if response.status_code == 200:\n",
        "            # Parse the JSON response\n",
        "            data = response.json()\n",
        "\n",
        "            # Extract and store the data we're interested in\n",
        "            city_names.append(data['name'])\n",
        "            temps.append(data['main']['temp'])\n",
        "            humidities.append(data['main']['humidity'])\n",
        "            pressures.append(data['main']['pressure'])\n",
        "            weather_descriptions.append(data['weather'][0]['description'])\n",
        "        else:\n",
        "            print(f\"Failed to get the weather for {city}\")\n",
        "\n",
        "    # Consolidate the data into a DataFrame\n",
        "    df = pd.DataFrame({\n",
        "        'City': city_names,\n",
        "        'Temperature': temps,\n",
        "        'Humidity': humidities,\n",
        "        'Pressure': pressures,\n",
        "        'Weather': weather_descriptions,\n",
        "    })\n",
        "\n",
        "    return df\n",
        "\n"
      ],
      "metadata": {
        "id": "1mEkjC-Ei048"
      },
      "execution_count": 51,
      "outputs": []
    },
    {
      "cell_type": "code",
      "source": [
        "API_key = 'XXXX'\n",
        "cities = ['Berlin', 'Paris', 'Madrid']\n",
        "df = get_weather(cities, API_key)\n",
        "print(df)\n"
      ],
      "metadata": {
        "colab": {
          "base_uri": "https://localhost:8080/"
        },
        "id": "_mw9RVfcj1nN",
        "outputId": "7642f7dc-6a84-44ab-8139-a29604e7f191"
      },
      "execution_count": 52,
      "outputs": [
        {
          "output_type": "stream",
          "name": "stdout",
          "text": [
            "     City  Temperature  Humidity  Pressure     Weather\n",
            "0  Berlin        17.38        66      1012  few clouds\n",
            "1   Paris        19.20        57      1028  few clouds\n",
            "2  Madrid        27.10        47      1025   clear sky\n"
          ]
        }
      ]
    },
    {
      "cell_type": "code",
      "source": [
        "import requests\n",
        "import pandas as pd\n",
        "from datetime import datetime, timedelta\n",
        "\n",
        "def get_weather(cities, API_key):\n",
        "    # Initialize empty lists for our data\n",
        "    city_names = []\n",
        "    temps = []\n",
        "    humidities = []\n",
        "    pressures = []\n",
        "    weathers = []\n",
        "\n",
        "    for city in cities:\n",
        "        # Make the API call for current weather to get city's coordinates\n",
        "        response = requests.get(f\"http://api.openweathermap.org/data/2.5/weather?q={city}&appid={API_key}&units=metric\")\n",
        "\n",
        "        # Check if the request was successful\n",
        "        if response.status_code == 200:\n",
        "            data = response.json()\n",
        "\n",
        "            # Get city's latitude and longitude\n",
        "            lat, lon = data['coord']['lat'], data['coord']['lon']\n",
        "\n",
        "            # Make the API call for 5-day / 3-hour forecast data\n",
        "            forecast_response = requests.get(f\"http://api.openweathermap.org/data/2.5/forecast?lat={lat}&lon={lon}&appid={API_key}&units=metric\")\n",
        "\n",
        "            # Check if the request was successful\n",
        "            if forecast_response.status_code == 200:\n",
        "                forecast = forecast_response.json()\n",
        "                # Get forecast for 12:00 PM or the closest available time\n",
        "                for forecast_time in forecast['list']:\n",
        "                    # Parse the timestamp\n",
        "                    dt = datetime.fromtimestamp(forecast_time['dt'])\n",
        "                    if dt.hour == 12:\n",
        "                        # Append the data to our lists\n",
        "                        city_names.append(city)\n",
        "                        temps.append(forecast_time['main']['temp'])\n",
        "                        humidities.append(forecast_time['main']['humidity'])\n",
        "                        pressures.append(forecast_time['main']['pressure'])\n",
        "                        weathers.append(forecast_time['weather'][0]['description'])\n",
        "                        # Exit the loop as we have found our forecast\n",
        "                        break\n",
        "            else:\n",
        "                print(f\"Failed to get the forecast for {city}\")\n",
        "        else:\n",
        "            print(f\"Failed to get the weather for {city}\")\n",
        "\n",
        "    # Consolidate the data into a DataFrame\n",
        "    df = pd.DataFrame({\n",
        "        'City': city_names,\n",
        "        'Temperature': temps,\n",
        "        'Humidity': humidities,\n",
        "        'Pressure': pressures,\n",
        "        'Weather': weathers\n",
        "    })\n",
        "\n",
        "    return df\n",
        "\n",
        "API_key = 'XXXX'\n",
        "cities = ['Berlin', 'Paris', 'Madrid']\n",
        "df = get_weather(cities, API_key)\n",
        "print(df)\n"
      ],
      "metadata": {
        "colab": {
          "base_uri": "https://localhost:8080/"
        },
        "id": "7dE9k2RsKmW_",
        "outputId": "718d5dd6-2236-4767-85cd-3a27360ecc51"
      },
      "execution_count": 53,
      "outputs": [
        {
          "output_type": "stream",
          "name": "stdout",
          "text": [
            "     City  Temperature  Humidity  Pressure          Weather\n",
            "0  Berlin        14.85        75      1021       light rain\n",
            "1   Paris        19.69        42      1027  overcast clouds\n",
            "2  Madrid        27.60        29      1023        clear sky\n"
          ]
        }
      ]
    },
    {
      "cell_type": "code",
      "source": [
        "import requests\n",
        "import pandas as pd\n",
        "\n",
        "def get_weather(cities, API_key):\n",
        "    # Initialize an empty list for our data\n",
        "    forecast_data = []\n",
        "\n",
        "    for city in cities:\n",
        "        # Make the API call for current weather to get city's coordinates\n",
        "        response = requests.get(f\"http://api.openweathermap.org/data/2.5/weather?q={city}&appid={API_key}&units=metric\")\n",
        "\n",
        "        # Check if the request was successful\n",
        "        if response.status_code == 200:\n",
        "            data = response.json()\n",
        "\n",
        "            # Get city's latitude and longitude\n",
        "            lat, lon = data['coord']['lat'], data['coord']['lon']\n",
        "\n",
        "            # Make the API call for 5-day / 3-hour forecast data\n",
        "            forecast_response = requests.get(f\"http://api.openweathermap.org/data/2.5/forecast?lat={lat}&lon={lon}&appid={API_key}&units=metric\")\n",
        "\n",
        "            # Check if the request was successful\n",
        "            if forecast_response.status_code == 200:\n",
        "                forecast_data.append(forecast_response.json())\n",
        "            else:\n",
        "                print(f\"Failed to get the forecast for {city}\")\n",
        "        else:\n",
        "            print(f\"Failed to get the weather for {city}\")\n",
        "\n",
        "    return forecast_data\n"
      ],
      "metadata": {
        "id": "4ki3ZeO78a7p"
      },
      "execution_count": 54,
      "outputs": []
    },
    {
      "cell_type": "code",
      "source": [
        "API_key = 'XXXX'\n",
        "cities = ['Berlin', 'Paris', 'Madrid']\n",
        "forecast_data = get_weather(cities, API_key)\n",
        "\n",
        "# Now, forecast_data is a list of JSON data for each city\n",
        "# You can print it to see what it looks like\n",
        "for city_data in forecast_data:\n",
        "    print(city_data)\n"
      ],
      "metadata": {
        "colab": {
          "base_uri": "https://localhost:8080/"
        },
        "id": "BZ4-QURu8olq",
        "outputId": "d3896601-ff1c-46f1-d0c2-0ad3c65e47e0"
      },
      "execution_count": 55,
      "outputs": [
        {
          "output_type": "stream",
          "name": "stdout",
          "text": [
            "{'cod': '200', 'message': 0, 'cnt': 40, 'list': [{'dt': 1696431600, 'main': {'temp': 17.45, 'feels_like': 16.95, 'temp_min': 17.45, 'temp_max': 17.55, 'pressure': 1012, 'sea_level': 1012, 'grnd_level': 1017, 'humidity': 65, 'temp_kf': -0.1}, 'weather': [{'id': 801, 'main': 'Clouds', 'description': 'few clouds', 'icon': '02d'}], 'clouds': {'all': 20}, 'wind': {'speed': 5.89, 'deg': 255, 'gust': 8.93}, 'visibility': 10000, 'pop': 0, 'sys': {'pod': 'd'}, 'dt_txt': '2023-10-04 15:00:00'}, {'dt': 1696442400, 'main': {'temp': 17.02, 'feels_like': 16.37, 'temp_min': 16.17, 'temp_max': 17.02, 'pressure': 1016, 'sea_level': 1016, 'grnd_level': 1018, 'humidity': 61, 'temp_kf': 0.85}, 'weather': [{'id': 802, 'main': 'Clouds', 'description': 'scattered clouds', 'icon': '03n'}], 'clouds': {'all': 44}, 'wind': {'speed': 4.49, 'deg': 258, 'gust': 9.2}, 'visibility': 10000, 'pop': 0, 'sys': {'pod': 'n'}, 'dt_txt': '2023-10-04 18:00:00'}, {'dt': 1696453200, 'main': {'temp': 16.03, 'feels_like': 15.33, 'temp_min': 15.32, 'temp_max': 16.03, 'pressure': 1019, 'sea_level': 1019, 'grnd_level': 1018, 'humidity': 63, 'temp_kf': 0.71}, 'weather': [{'id': 803, 'main': 'Clouds', 'description': 'broken clouds', 'icon': '04n'}], 'clouds': {'all': 73}, 'wind': {'speed': 4.8, 'deg': 244, 'gust': 10.05}, 'visibility': 10000, 'pop': 0, 'sys': {'pod': 'n'}, 'dt_txt': '2023-10-04 21:00:00'}, {'dt': 1696464000, 'main': {'temp': 13.91, 'feels_like': 13.08, 'temp_min': 13.91, 'temp_max': 13.91, 'pressure': 1021, 'sea_level': 1021, 'grnd_level': 1016, 'humidity': 66, 'temp_kf': 0}, 'weather': [{'id': 804, 'main': 'Clouds', 'description': 'overcast clouds', 'icon': '04n'}], 'clouds': {'all': 97}, 'wind': {'speed': 5.11, 'deg': 234, 'gust': 12.01}, 'visibility': 10000, 'pop': 0, 'sys': {'pod': 'n'}, 'dt_txt': '2023-10-05 00:00:00'}, {'dt': 1696474800, 'main': {'temp': 13.22, 'feels_like': 12.43, 'temp_min': 13.22, 'temp_max': 13.22, 'pressure': 1020, 'sea_level': 1020, 'grnd_level': 1015, 'humidity': 70, 'temp_kf': 0}, 'weather': [{'id': 804, 'main': 'Clouds', 'description': 'overcast clouds', 'icon': '04n'}], 'clouds': {'all': 100}, 'wind': {'speed': 5.56, 'deg': 245, 'gust': 11.7}, 'visibility': 10000, 'pop': 0, 'sys': {'pod': 'n'}, 'dt_txt': '2023-10-05 03:00:00'}, {'dt': 1696485600, 'main': {'temp': 13.2, 'feels_like': 12.48, 'temp_min': 13.2, 'temp_max': 13.2, 'pressure': 1019, 'sea_level': 1019, 'grnd_level': 1014, 'humidity': 73, 'temp_kf': 0}, 'weather': [{'id': 804, 'main': 'Clouds', 'description': 'overcast clouds', 'icon': '04d'}], 'clouds': {'all': 100}, 'wind': {'speed': 6.17, 'deg': 243, 'gust': 13.47}, 'visibility': 10000, 'pop': 0, 'sys': {'pod': 'd'}, 'dt_txt': '2023-10-05 06:00:00'}, {'dt': 1696496400, 'main': {'temp': 16.21, 'feels_like': 15.53, 'temp_min': 16.21, 'temp_max': 16.21, 'pressure': 1020, 'sea_level': 1020, 'grnd_level': 1014, 'humidity': 63, 'temp_kf': 0}, 'weather': [{'id': 804, 'main': 'Clouds', 'description': 'overcast clouds', 'icon': '04d'}], 'clouds': {'all': 93}, 'wind': {'speed': 7.41, 'deg': 261, 'gust': 12.75}, 'visibility': 10000, 'pop': 0.02, 'sys': {'pod': 'd'}, 'dt_txt': '2023-10-05 09:00:00'}, {'dt': 1696507200, 'main': {'temp': 14.85, 'feels_like': 14.35, 'temp_min': 14.85, 'temp_max': 14.85, 'pressure': 1021, 'sea_level': 1021, 'grnd_level': 1016, 'humidity': 75, 'temp_kf': 0}, 'weather': [{'id': 500, 'main': 'Rain', 'description': 'light rain', 'icon': '10d'}], 'clouds': {'all': 95}, 'wind': {'speed': 5.92, 'deg': 275, 'gust': 10.35}, 'visibility': 10000, 'pop': 0.21, 'rain': {'3h': 0.13}, 'sys': {'pod': 'd'}, 'dt_txt': '2023-10-05 12:00:00'}, {'dt': 1696518000, 'main': {'temp': 16.84, 'feels_like': 16.09, 'temp_min': 16.84, 'temp_max': 16.84, 'pressure': 1021, 'sea_level': 1021, 'grnd_level': 1016, 'humidity': 58, 'temp_kf': 0}, 'weather': [{'id': 500, 'main': 'Rain', 'description': 'light rain', 'icon': '10d'}], 'clouds': {'all': 92}, 'wind': {'speed': 5.26, 'deg': 274, 'gust': 8.9}, 'visibility': 10000, 'pop': 0.22, 'rain': {'3h': 0.13}, 'sys': {'pod': 'd'}, 'dt_txt': '2023-10-05 15:00:00'}, {'dt': 1696528800, 'main': {'temp': 14.01, 'feels_like': 13.42, 'temp_min': 14.01, 'temp_max': 14.01, 'pressure': 1023, 'sea_level': 1023, 'grnd_level': 1017, 'humidity': 75, 'temp_kf': 0}, 'weather': [{'id': 803, 'main': 'Clouds', 'description': 'broken clouds', 'icon': '04n'}], 'clouds': {'all': 73}, 'wind': {'speed': 4.31, 'deg': 260, 'gust': 9.14}, 'visibility': 10000, 'pop': 0, 'sys': {'pod': 'n'}, 'dt_txt': '2023-10-05 18:00:00'}, {'dt': 1696539600, 'main': {'temp': 12.49, 'feels_like': 11.96, 'temp_min': 12.49, 'temp_max': 12.49, 'pressure': 1024, 'sea_level': 1024, 'grnd_level': 1019, 'humidity': 83, 'temp_kf': 0}, 'weather': [{'id': 804, 'main': 'Clouds', 'description': 'overcast clouds', 'icon': '04n'}], 'clouds': {'all': 100}, 'wind': {'speed': 2.75, 'deg': 278, 'gust': 6.49}, 'visibility': 10000, 'pop': 0, 'sys': {'pod': 'n'}, 'dt_txt': '2023-10-05 21:00:00'}, {'dt': 1696550400, 'main': {'temp': 12.01, 'feels_like': 11.54, 'temp_min': 12.01, 'temp_max': 12.01, 'pressure': 1024, 'sea_level': 1024, 'grnd_level': 1019, 'humidity': 87, 'temp_kf': 0}, 'weather': [{'id': 804, 'main': 'Clouds', 'description': 'overcast clouds', 'icon': '04n'}], 'clouds': {'all': 100}, 'wind': {'speed': 2.06, 'deg': 273, 'gust': 4.38}, 'visibility': 10000, 'pop': 0, 'sys': {'pod': 'n'}, 'dt_txt': '2023-10-06 00:00:00'}, {'dt': 1696561200, 'main': {'temp': 12.82, 'feels_like': 12.48, 'temp_min': 12.82, 'temp_max': 12.82, 'pressure': 1024, 'sea_level': 1024, 'grnd_level': 1019, 'humidity': 89, 'temp_kf': 0}, 'weather': [{'id': 804, 'main': 'Clouds', 'description': 'overcast clouds', 'icon': '04n'}], 'clouds': {'all': 100}, 'wind': {'speed': 2.16, 'deg': 239, 'gust': 5.17}, 'visibility': 10000, 'pop': 0, 'sys': {'pod': 'n'}, 'dt_txt': '2023-10-06 03:00:00'}, {'dt': 1696572000, 'main': {'temp': 12.72, 'feels_like': 12.37, 'temp_min': 12.72, 'temp_max': 12.72, 'pressure': 1025, 'sea_level': 1025, 'grnd_level': 1020, 'humidity': 89, 'temp_kf': 0}, 'weather': [{'id': 804, 'main': 'Clouds', 'description': 'overcast clouds', 'icon': '04d'}], 'clouds': {'all': 92}, 'wind': {'speed': 2.5, 'deg': 245, 'gust': 6.86}, 'visibility': 10000, 'pop': 0, 'sys': {'pod': 'd'}, 'dt_txt': '2023-10-06 06:00:00'}, {'dt': 1696582800, 'main': {'temp': 16.57, 'feels_like': 15.9, 'temp_min': 16.57, 'temp_max': 16.57, 'pressure': 1025, 'sea_level': 1025, 'grnd_level': 1019, 'humidity': 62, 'temp_kf': 0}, 'weather': [{'id': 804, 'main': 'Clouds', 'description': 'overcast clouds', 'icon': '04d'}], 'clouds': {'all': 88}, 'wind': {'speed': 4.63, 'deg': 245, 'gust': 7.57}, 'visibility': 10000, 'pop': 0, 'sys': {'pod': 'd'}, 'dt_txt': '2023-10-06 09:00:00'}, {'dt': 1696593600, 'main': {'temp': 19.64, 'feels_like': 18.86, 'temp_min': 19.64, 'temp_max': 19.64, 'pressure': 1023, 'sea_level': 1023, 'grnd_level': 1018, 'humidity': 46, 'temp_kf': 0}, 'weather': [{'id': 803, 'main': 'Clouds', 'description': 'broken clouds', 'icon': '04d'}], 'clouds': {'all': 55}, 'wind': {'speed': 5.61, 'deg': 242, 'gust': 7.85}, 'visibility': 10000, 'pop': 0, 'sys': {'pod': 'd'}, 'dt_txt': '2023-10-06 12:00:00'}, {'dt': 1696604400, 'main': {'temp': 19.32, 'feels_like': 18.48, 'temp_min': 19.32, 'temp_max': 19.32, 'pressure': 1021, 'sea_level': 1021, 'grnd_level': 1016, 'humidity': 45, 'temp_kf': 0}, 'weather': [{'id': 803, 'main': 'Clouds', 'description': 'broken clouds', 'icon': '04d'}], 'clouds': {'all': 66}, 'wind': {'speed': 5.41, 'deg': 258, 'gust': 9.63}, 'visibility': 10000, 'pop': 0, 'sys': {'pod': 'd'}, 'dt_txt': '2023-10-06 15:00:00'}, {'dt': 1696615200, 'main': {'temp': 16.65, 'feels_like': 15.81, 'temp_min': 16.65, 'temp_max': 16.65, 'pressure': 1021, 'sea_level': 1021, 'grnd_level': 1016, 'humidity': 55, 'temp_kf': 0}, 'weather': [{'id': 803, 'main': 'Clouds', 'description': 'broken clouds', 'icon': '04n'}], 'clouds': {'all': 81}, 'wind': {'speed': 5.49, 'deg': 256, 'gust': 11.45}, 'visibility': 10000, 'pop': 0, 'sys': {'pod': 'n'}, 'dt_txt': '2023-10-06 18:00:00'}, {'dt': 1696626000, 'main': {'temp': 15.9, 'feels_like': 15.11, 'temp_min': 15.9, 'temp_max': 15.9, 'pressure': 1020, 'sea_level': 1020, 'grnd_level': 1015, 'humidity': 60, 'temp_kf': 0}, 'weather': [{'id': 804, 'main': 'Clouds', 'description': 'overcast clouds', 'icon': '04n'}], 'clouds': {'all': 100}, 'wind': {'speed': 5.49, 'deg': 245, 'gust': 12.8}, 'visibility': 10000, 'pop': 0, 'sys': {'pod': 'n'}, 'dt_txt': '2023-10-06 21:00:00'}, {'dt': 1696636800, 'main': {'temp': 16.08, 'feels_like': 15.34, 'temp_min': 16.08, 'temp_max': 16.08, 'pressure': 1019, 'sea_level': 1019, 'grnd_level': 1014, 'humidity': 61, 'temp_kf': 0}, 'weather': [{'id': 804, 'main': 'Clouds', 'description': 'overcast clouds', 'icon': '04n'}], 'clouds': {'all': 100}, 'wind': {'speed': 5.89, 'deg': 250, 'gust': 13.35}, 'visibility': 10000, 'pop': 0, 'sys': {'pod': 'n'}, 'dt_txt': '2023-10-07 00:00:00'}, {'dt': 1696647600, 'main': {'temp': 16.37, 'feels_like': 15.92, 'temp_min': 16.37, 'temp_max': 16.37, 'pressure': 1017, 'sea_level': 1017, 'grnd_level': 1012, 'humidity': 71, 'temp_kf': 0}, 'weather': [{'id': 804, 'main': 'Clouds', 'description': 'overcast clouds', 'icon': '04n'}], 'clouds': {'all': 99}, 'wind': {'speed': 6.44, 'deg': 254, 'gust': 13.35}, 'visibility': 10000, 'pop': 0, 'sys': {'pod': 'n'}, 'dt_txt': '2023-10-07 03:00:00'}, {'dt': 1696658400, 'main': {'temp': 16.7, 'feels_like': 16.23, 'temp_min': 16.7, 'temp_max': 16.7, 'pressure': 1016, 'sea_level': 1016, 'grnd_level': 1011, 'humidity': 69, 'temp_kf': 0}, 'weather': [{'id': 804, 'main': 'Clouds', 'description': 'overcast clouds', 'icon': '04d'}], 'clouds': {'all': 98}, 'wind': {'speed': 6.81, 'deg': 251, 'gust': 14.62}, 'visibility': 10000, 'pop': 0, 'sys': {'pod': 'd'}, 'dt_txt': '2023-10-07 06:00:00'}, {'dt': 1696669200, 'main': {'temp': 17.62, 'feels_like': 17, 'temp_min': 17.62, 'temp_max': 17.62, 'pressure': 1015, 'sea_level': 1015, 'grnd_level': 1010, 'humidity': 60, 'temp_kf': 0}, 'weather': [{'id': 804, 'main': 'Clouds', 'description': 'overcast clouds', 'icon': '04d'}], 'clouds': {'all': 100}, 'wind': {'speed': 7.43, 'deg': 252, 'gust': 15.17}, 'visibility': 10000, 'pop': 0, 'sys': {'pod': 'd'}, 'dt_txt': '2023-10-07 09:00:00'}, {'dt': 1696680000, 'main': {'temp': 19.16, 'feels_like': 18.46, 'temp_min': 19.16, 'temp_max': 19.16, 'pressure': 1014, 'sea_level': 1014, 'grnd_level': 1009, 'humidity': 51, 'temp_kf': 0}, 'weather': [{'id': 804, 'main': 'Clouds', 'description': 'overcast clouds', 'icon': '04d'}], 'clouds': {'all': 100}, 'wind': {'speed': 7.87, 'deg': 259, 'gust': 16.73}, 'visibility': 10000, 'pop': 0, 'sys': {'pod': 'd'}, 'dt_txt': '2023-10-07 12:00:00'}, {'dt': 1696690800, 'main': {'temp': 18.55, 'feels_like': 17.9, 'temp_min': 18.55, 'temp_max': 18.55, 'pressure': 1014, 'sea_level': 1014, 'grnd_level': 1009, 'humidity': 55, 'temp_kf': 0}, 'weather': [{'id': 804, 'main': 'Clouds', 'description': 'overcast clouds', 'icon': '04d'}], 'clouds': {'all': 100}, 'wind': {'speed': 7.61, 'deg': 272, 'gust': 16.6}, 'visibility': 10000, 'pop': 0, 'sys': {'pod': 'd'}, 'dt_txt': '2023-10-07 15:00:00'}, {'dt': 1696701600, 'main': {'temp': 19.44, 'feels_like': 19.11, 'temp_min': 19.44, 'temp_max': 19.44, 'pressure': 1015, 'sea_level': 1015, 'grnd_level': 1010, 'humidity': 64, 'temp_kf': 0}, 'weather': [{'id': 804, 'main': 'Clouds', 'description': 'overcast clouds', 'icon': '04n'}], 'clouds': {'all': 100}, 'wind': {'speed': 7.65, 'deg': 277, 'gust': 17.02}, 'visibility': 10000, 'pop': 0, 'sys': {'pod': 'n'}, 'dt_txt': '2023-10-07 18:00:00'}, {'dt': 1696712400, 'main': {'temp': 19.16, 'feels_like': 18.88, 'temp_min': 19.16, 'temp_max': 19.16, 'pressure': 1015, 'sea_level': 1015, 'grnd_level': 1010, 'humidity': 67, 'temp_kf': 0}, 'weather': [{'id': 804, 'main': 'Clouds', 'description': 'overcast clouds', 'icon': '04n'}], 'clouds': {'all': 100}, 'wind': {'speed': 8.36, 'deg': 275, 'gust': 20.11}, 'visibility': 10000, 'pop': 0, 'sys': {'pod': 'n'}, 'dt_txt': '2023-10-07 21:00:00'}, {'dt': 1696723200, 'main': {'temp': 18.15, 'feels_like': 17.85, 'temp_min': 18.15, 'temp_max': 18.15, 'pressure': 1015, 'sea_level': 1015, 'grnd_level': 1010, 'humidity': 70, 'temp_kf': 0}, 'weather': [{'id': 804, 'main': 'Clouds', 'description': 'overcast clouds', 'icon': '04n'}], 'clouds': {'all': 98}, 'wind': {'speed': 7.23, 'deg': 270, 'gust': 19.23}, 'visibility': 10000, 'pop': 0, 'sys': {'pod': 'n'}, 'dt_txt': '2023-10-08 00:00:00'}, {'dt': 1696734000, 'main': {'temp': 17.82, 'feels_like': 17.41, 'temp_min': 17.82, 'temp_max': 17.82, 'pressure': 1015, 'sea_level': 1015, 'grnd_level': 1010, 'humidity': 67, 'temp_kf': 0}, 'weather': [{'id': 804, 'main': 'Clouds', 'description': 'overcast clouds', 'icon': '04n'}], 'clouds': {'all': 92}, 'wind': {'speed': 7.87, 'deg': 276, 'gust': 19.85}, 'visibility': 10000, 'pop': 0.29, 'sys': {'pod': 'n'}, 'dt_txt': '2023-10-08 03:00:00'}, {'dt': 1696744800, 'main': {'temp': 16.21, 'feels_like': 15.98, 'temp_min': 16.21, 'temp_max': 16.21, 'pressure': 1017, 'sea_level': 1017, 'grnd_level': 1011, 'humidity': 80, 'temp_kf': 0}, 'weather': [{'id': 500, 'main': 'Rain', 'description': 'light rain', 'icon': '10d'}], 'clouds': {'all': 96}, 'wind': {'speed': 5.01, 'deg': 316, 'gust': 11.34}, 'visibility': 10000, 'pop': 0.39, 'rain': {'3h': 0.19}, 'sys': {'pod': 'd'}, 'dt_txt': '2023-10-08 06:00:00'}, {'dt': 1696755600, 'main': {'temp': 12.58, 'feels_like': 12.09, 'temp_min': 12.58, 'temp_max': 12.58, 'pressure': 1019, 'sea_level': 1019, 'grnd_level': 1014, 'humidity': 84, 'temp_kf': 0}, 'weather': [{'id': 500, 'main': 'Rain', 'description': 'light rain', 'icon': '10d'}], 'clouds': {'all': 100}, 'wind': {'speed': 4.38, 'deg': 337, 'gust': 8.49}, 'visibility': 10000, 'pop': 0.73, 'rain': {'3h': 1.32}, 'sys': {'pod': 'd'}, 'dt_txt': '2023-10-08 09:00:00'}, {'dt': 1696766400, 'main': {'temp': 11.69, 'feels_like': 11.13, 'temp_min': 11.69, 'temp_max': 11.69, 'pressure': 1021, 'sea_level': 1021, 'grnd_level': 1016, 'humidity': 85, 'temp_kf': 0}, 'weather': [{'id': 500, 'main': 'Rain', 'description': 'light rain', 'icon': '10d'}], 'clouds': {'all': 100}, 'wind': {'speed': 3.47, 'deg': 331, 'gust': 5.56}, 'visibility': 10000, 'pop': 0.95, 'rain': {'3h': 1.13}, 'sys': {'pod': 'd'}, 'dt_txt': '2023-10-08 12:00:00'}, {'dt': 1696777200, 'main': {'temp': 11.86, 'feels_like': 11.06, 'temp_min': 11.86, 'temp_max': 11.86, 'pressure': 1023, 'sea_level': 1023, 'grnd_level': 1017, 'humidity': 75, 'temp_kf': 0}, 'weather': [{'id': 500, 'main': 'Rain', 'description': 'light rain', 'icon': '10d'}], 'clouds': {'all': 100}, 'wind': {'speed': 2.41, 'deg': 357, 'gust': 4.29}, 'visibility': 10000, 'pop': 0.51, 'rain': {'3h': 0.36}, 'sys': {'pod': 'd'}, 'dt_txt': '2023-10-08 15:00:00'}, {'dt': 1696788000, 'main': {'temp': 10.57, 'feels_like': 9.72, 'temp_min': 10.57, 'temp_max': 10.57, 'pressure': 1024, 'sea_level': 1024, 'grnd_level': 1019, 'humidity': 78, 'temp_kf': 0}, 'weather': [{'id': 804, 'main': 'Clouds', 'description': 'overcast clouds', 'icon': '04n'}], 'clouds': {'all': 99}, 'wind': {'speed': 1.77, 'deg': 5, 'gust': 3.4}, 'visibility': 10000, 'pop': 0.35, 'sys': {'pod': 'n'}, 'dt_txt': '2023-10-08 18:00:00'}, {'dt': 1696798800, 'main': {'temp': 9.9, 'feels_like': 8.6, 'temp_min': 9.9, 'temp_max': 9.9, 'pressure': 1025, 'sea_level': 1025, 'grnd_level': 1020, 'humidity': 66, 'temp_kf': 0}, 'weather': [{'id': 804, 'main': 'Clouds', 'description': 'overcast clouds', 'icon': '04n'}], 'clouds': {'all': 100}, 'wind': {'speed': 2.66, 'deg': 81, 'gust': 4.29}, 'visibility': 10000, 'pop': 0, 'sys': {'pod': 'n'}, 'dt_txt': '2023-10-08 21:00:00'}, {'dt': 1696809600, 'main': {'temp': 9.06, 'feels_like': 7.39, 'temp_min': 9.06, 'temp_max': 9.06, 'pressure': 1025, 'sea_level': 1025, 'grnd_level': 1019, 'humidity': 59, 'temp_kf': 0}, 'weather': [{'id': 804, 'main': 'Clouds', 'description': 'overcast clouds', 'icon': '04n'}], 'clouds': {'all': 100}, 'wind': {'speed': 2.98, 'deg': 106, 'gust': 5.13}, 'visibility': 10000, 'pop': 0.05, 'sys': {'pod': 'n'}, 'dt_txt': '2023-10-09 00:00:00'}, {'dt': 1696820400, 'main': {'temp': 8.8, 'feels_like': 7.24, 'temp_min': 8.8, 'temp_max': 8.8, 'pressure': 1024, 'sea_level': 1024, 'grnd_level': 1018, 'humidity': 60, 'temp_kf': 0}, 'weather': [{'id': 804, 'main': 'Clouds', 'description': 'overcast clouds', 'icon': '04n'}], 'clouds': {'all': 100}, 'wind': {'speed': 2.74, 'deg': 111, 'gust': 4.96}, 'visibility': 10000, 'pop': 0, 'sys': {'pod': 'n'}, 'dt_txt': '2023-10-09 03:00:00'}, {'dt': 1696831200, 'main': {'temp': 8.65, 'feels_like': 6.14, 'temp_min': 8.65, 'temp_max': 8.65, 'pressure': 1021, 'sea_level': 1021, 'grnd_level': 1015, 'humidity': 66, 'temp_kf': 0}, 'weather': [{'id': 804, 'main': 'Clouds', 'description': 'overcast clouds', 'icon': '04d'}], 'clouds': {'all': 100}, 'wind': {'speed': 4.43, 'deg': 104, 'gust': 7.8}, 'visibility': 10000, 'pop': 0.14, 'sys': {'pod': 'd'}, 'dt_txt': '2023-10-09 06:00:00'}, {'dt': 1696842000, 'main': {'temp': 9.29, 'feels_like': 6.65, 'temp_min': 9.29, 'temp_max': 9.29, 'pressure': 1018, 'sea_level': 1018, 'grnd_level': 1013, 'humidity': 69, 'temp_kf': 0}, 'weather': [{'id': 804, 'main': 'Clouds', 'description': 'overcast clouds', 'icon': '04d'}], 'clouds': {'all': 100}, 'wind': {'speed': 5.14, 'deg': 129, 'gust': 10.06}, 'visibility': 10000, 'pop': 0.18, 'sys': {'pod': 'd'}, 'dt_txt': '2023-10-09 09:00:00'}, {'dt': 1696852800, 'main': {'temp': 11.94, 'feels_like': 10.94, 'temp_min': 11.94, 'temp_max': 11.94, 'pressure': 1012, 'sea_level': 1012, 'grnd_level': 1007, 'humidity': 67, 'temp_kf': 0}, 'weather': [{'id': 804, 'main': 'Clouds', 'description': 'overcast clouds', 'icon': '04d'}], 'clouds': {'all': 100}, 'wind': {'speed': 5.59, 'deg': 141, 'gust': 8.64}, 'visibility': 10000, 'pop': 0.1, 'sys': {'pod': 'd'}, 'dt_txt': '2023-10-09 12:00:00'}], 'city': {'id': 2950159, 'name': 'Berlin', 'coord': {'lat': 52.5244, 'lon': 13.4105}, 'country': 'DE', 'population': 1000000, 'timezone': 7200, 'sunrise': 1696396300, 'sunset': 1696437514}}\n",
            "{'cod': '200', 'message': 0, 'cnt': 40, 'list': [{'dt': 1696431600, 'main': {'temp': 18.86, 'feels_like': 18.32, 'temp_min': 18.86, 'temp_max': 19.07, 'pressure': 1028, 'sea_level': 1028, 'grnd_level': 1023, 'humidity': 58, 'temp_kf': -0.21}, 'weather': [{'id': 801, 'main': 'Clouds', 'description': 'few clouds', 'icon': '02d'}], 'clouds': {'all': 20}, 'wind': {'speed': 2.3, 'deg': 277, 'gust': 3.07}, 'visibility': 10000, 'pop': 0, 'sys': {'pod': 'd'}, 'dt_txt': '2023-10-04 15:00:00'}, {'dt': 1696442400, 'main': {'temp': 18.28, 'feels_like': 17.6, 'temp_min': 17.12, 'temp_max': 18.28, 'pressure': 1028, 'sea_level': 1028, 'grnd_level': 1023, 'humidity': 55, 'temp_kf': 1.16}, 'weather': [{'id': 802, 'main': 'Clouds', 'description': 'scattered clouds', 'icon': '03n'}], 'clouds': {'all': 43}, 'wind': {'speed': 1.33, 'deg': 279, 'gust': 2.24}, 'visibility': 10000, 'pop': 0, 'sys': {'pod': 'n'}, 'dt_txt': '2023-10-04 18:00:00'}, {'dt': 1696453200, 'main': {'temp': 16.89, 'feels_like': 16.1, 'temp_min': 15.91, 'temp_max': 16.89, 'pressure': 1028, 'sea_level': 1028, 'grnd_level': 1023, 'humidity': 56, 'temp_kf': 0.98}, 'weather': [{'id': 803, 'main': 'Clouds', 'description': 'broken clouds', 'icon': '04n'}], 'clouds': {'all': 73}, 'wind': {'speed': 0.4, 'deg': 248, 'gust': 0.68}, 'visibility': 10000, 'pop': 0, 'sys': {'pod': 'n'}, 'dt_txt': '2023-10-04 21:00:00'}, {'dt': 1696464000, 'main': {'temp': 14.91, 'feels_like': 14.02, 'temp_min': 14.91, 'temp_max': 14.91, 'pressure': 1027, 'sea_level': 1027, 'grnd_level': 1022, 'humidity': 60, 'temp_kf': 0}, 'weather': [{'id': 804, 'main': 'Clouds', 'description': 'overcast clouds', 'icon': '04n'}], 'clouds': {'all': 99}, 'wind': {'speed': 0.7, 'deg': 255, 'gust': 1.31}, 'visibility': 10000, 'pop': 0, 'sys': {'pod': 'n'}, 'dt_txt': '2023-10-05 00:00:00'}, {'dt': 1696474800, 'main': {'temp': 14.15, 'feels_like': 13.29, 'temp_min': 14.15, 'temp_max': 14.15, 'pressure': 1026, 'sea_level': 1026, 'grnd_level': 1021, 'humidity': 64, 'temp_kf': 0}, 'weather': [{'id': 804, 'main': 'Clouds', 'description': 'overcast clouds', 'icon': '04n'}], 'clouds': {'all': 100}, 'wind': {'speed': 0.55, 'deg': 260, 'gust': 0.89}, 'visibility': 10000, 'pop': 0, 'sys': {'pod': 'n'}, 'dt_txt': '2023-10-05 03:00:00'}, {'dt': 1696485600, 'main': {'temp': 13.5, 'feels_like': 12.68, 'temp_min': 13.5, 'temp_max': 13.5, 'pressure': 1026, 'sea_level': 1026, 'grnd_level': 1021, 'humidity': 68, 'temp_kf': 0}, 'weather': [{'id': 804, 'main': 'Clouds', 'description': 'overcast clouds', 'icon': '04d'}], 'clouds': {'all': 100}, 'wind': {'speed': 0.47, 'deg': 266, 'gust': 0.76}, 'visibility': 10000, 'pop': 0, 'sys': {'pod': 'd'}, 'dt_txt': '2023-10-05 06:00:00'}, {'dt': 1696496400, 'main': {'temp': 16.41, 'feels_like': 15.59, 'temp_min': 16.41, 'temp_max': 16.41, 'pressure': 1027, 'sea_level': 1027, 'grnd_level': 1022, 'humidity': 57, 'temp_kf': 0}, 'weather': [{'id': 804, 'main': 'Clouds', 'description': 'overcast clouds', 'icon': '04d'}], 'clouds': {'all': 100}, 'wind': {'speed': 0.49, 'deg': 199, 'gust': 0.63}, 'visibility': 10000, 'pop': 0, 'sys': {'pod': 'd'}, 'dt_txt': '2023-10-05 09:00:00'}, {'dt': 1696507200, 'main': {'temp': 19.69, 'feels_like': 18.81, 'temp_min': 19.69, 'temp_max': 19.69, 'pressure': 1027, 'sea_level': 1027, 'grnd_level': 1022, 'humidity': 42, 'temp_kf': 0}, 'weather': [{'id': 804, 'main': 'Clouds', 'description': 'overcast clouds', 'icon': '04d'}], 'clouds': {'all': 99}, 'wind': {'speed': 0.56, 'deg': 211, 'gust': 0.98}, 'visibility': 10000, 'pop': 0, 'sys': {'pod': 'd'}, 'dt_txt': '2023-10-05 12:00:00'}, {'dt': 1696518000, 'main': {'temp': 20.53, 'feels_like': 19.58, 'temp_min': 20.53, 'temp_max': 20.53, 'pressure': 1025, 'sea_level': 1025, 'grnd_level': 1020, 'humidity': 36, 'temp_kf': 0}, 'weather': [{'id': 804, 'main': 'Clouds', 'description': 'overcast clouds', 'icon': '04d'}], 'clouds': {'all': 100}, 'wind': {'speed': 0.78, 'deg': 277, 'gust': 1.53}, 'visibility': 10000, 'pop': 0, 'sys': {'pod': 'd'}, 'dt_txt': '2023-10-05 15:00:00'}, {'dt': 1696528800, 'main': {'temp': 18.59, 'feels_like': 17.6, 'temp_min': 18.59, 'temp_max': 18.59, 'pressure': 1026, 'sea_level': 1026, 'grnd_level': 1021, 'humidity': 42, 'temp_kf': 0}, 'weather': [{'id': 804, 'main': 'Clouds', 'description': 'overcast clouds', 'icon': '04n'}], 'clouds': {'all': 100}, 'wind': {'speed': 0.33, 'deg': 293, 'gust': 1.34}, 'visibility': 10000, 'pop': 0, 'sys': {'pod': 'n'}, 'dt_txt': '2023-10-05 18:00:00'}, {'dt': 1696539600, 'main': {'temp': 16.96, 'feels_like': 15.96, 'temp_min': 16.96, 'temp_max': 16.96, 'pressure': 1026, 'sea_level': 1026, 'grnd_level': 1021, 'humidity': 48, 'temp_kf': 0}, 'weather': [{'id': 804, 'main': 'Clouds', 'description': 'overcast clouds', 'icon': '04n'}], 'clouds': {'all': 100}, 'wind': {'speed': 0.47, 'deg': 44, 'gust': 0.96}, 'visibility': 10000, 'pop': 0, 'sys': {'pod': 'n'}, 'dt_txt': '2023-10-05 21:00:00'}, {'dt': 1696550400, 'main': {'temp': 15.96, 'feels_like': 14.92, 'temp_min': 15.96, 'temp_max': 15.96, 'pressure': 1026, 'sea_level': 1026, 'grnd_level': 1021, 'humidity': 50, 'temp_kf': 0}, 'weather': [{'id': 804, 'main': 'Clouds', 'description': 'overcast clouds', 'icon': '04n'}], 'clouds': {'all': 100}, 'wind': {'speed': 0.87, 'deg': 152, 'gust': 1.09}, 'visibility': 10000, 'pop': 0, 'sys': {'pod': 'n'}, 'dt_txt': '2023-10-06 00:00:00'}, {'dt': 1696561200, 'main': {'temp': 15.02, 'feels_like': 13.96, 'temp_min': 15.02, 'temp_max': 15.02, 'pressure': 1026, 'sea_level': 1026, 'grnd_level': 1021, 'humidity': 53, 'temp_kf': 0}, 'weather': [{'id': 804, 'main': 'Clouds', 'description': 'overcast clouds', 'icon': '04n'}], 'clouds': {'all': 100}, 'wind': {'speed': 0.72, 'deg': 204, 'gust': 0.98}, 'visibility': 10000, 'pop': 0, 'sys': {'pod': 'n'}, 'dt_txt': '2023-10-06 03:00:00'}, {'dt': 1696572000, 'main': {'temp': 14, 'feels_like': 12.92, 'temp_min': 14, 'temp_max': 14, 'pressure': 1027, 'sea_level': 1027, 'grnd_level': 1021, 'humidity': 56, 'temp_kf': 0}, 'weather': [{'id': 804, 'main': 'Clouds', 'description': 'overcast clouds', 'icon': '04d'}], 'clouds': {'all': 98}, 'wind': {'speed': 0.76, 'deg': 187, 'gust': 0.91}, 'visibility': 10000, 'pop': 0, 'sys': {'pod': 'd'}, 'dt_txt': '2023-10-06 06:00:00'}, {'dt': 1696582800, 'main': {'temp': 17.49, 'feels_like': 16.44, 'temp_min': 17.49, 'temp_max': 17.49, 'pressure': 1027, 'sea_level': 1027, 'grnd_level': 1022, 'humidity': 44, 'temp_kf': 0}, 'weather': [{'id': 804, 'main': 'Clouds', 'description': 'overcast clouds', 'icon': '04d'}], 'clouds': {'all': 98}, 'wind': {'speed': 1.24, 'deg': 176, 'gust': 1.68}, 'visibility': 10000, 'pop': 0, 'sys': {'pod': 'd'}, 'dt_txt': '2023-10-06 09:00:00'}, {'dt': 1696593600, 'main': {'temp': 21.12, 'feels_like': 20.1, 'temp_min': 21.12, 'temp_max': 21.12, 'pressure': 1027, 'sea_level': 1027, 'grnd_level': 1021, 'humidity': 31, 'temp_kf': 0}, 'weather': [{'id': 804, 'main': 'Clouds', 'description': 'overcast clouds', 'icon': '04d'}], 'clouds': {'all': 99}, 'wind': {'speed': 1.19, 'deg': 217, 'gust': 1.64}, 'visibility': 10000, 'pop': 0, 'sys': {'pod': 'd'}, 'dt_txt': '2023-10-06 12:00:00'}, {'dt': 1696604400, 'main': {'temp': 22.16, 'feels_like': 21.14, 'temp_min': 22.16, 'temp_max': 22.16, 'pressure': 1025, 'sea_level': 1025, 'grnd_level': 1020, 'humidity': 27, 'temp_kf': 0}, 'weather': [{'id': 804, 'main': 'Clouds', 'description': 'overcast clouds', 'icon': '04d'}], 'clouds': {'all': 100}, 'wind': {'speed': 0.72, 'deg': 242, 'gust': 1.37}, 'visibility': 10000, 'pop': 0, 'sys': {'pod': 'd'}, 'dt_txt': '2023-10-06 15:00:00'}, {'dt': 1696615200, 'main': {'temp': 19.41, 'feels_like': 18.24, 'temp_min': 19.41, 'temp_max': 19.41, 'pressure': 1026, 'sea_level': 1026, 'grnd_level': 1021, 'humidity': 32, 'temp_kf': 0}, 'weather': [{'id': 804, 'main': 'Clouds', 'description': 'overcast clouds', 'icon': '04n'}], 'clouds': {'all': 100}, 'wind': {'speed': 0.63, 'deg': 67, 'gust': 0.75}, 'visibility': 10000, 'pop': 0, 'sys': {'pod': 'n'}, 'dt_txt': '2023-10-06 18:00:00'}, {'dt': 1696626000, 'main': {'temp': 17.75, 'feels_like': 16.55, 'temp_min': 17.75, 'temp_max': 17.75, 'pressure': 1027, 'sea_level': 1027, 'grnd_level': 1021, 'humidity': 37, 'temp_kf': 0}, 'weather': [{'id': 804, 'main': 'Clouds', 'description': 'overcast clouds', 'icon': '04n'}], 'clouds': {'all': 100}, 'wind': {'speed': 0.61, 'deg': 134, 'gust': 0.68}, 'visibility': 10000, 'pop': 0, 'sys': {'pod': 'n'}, 'dt_txt': '2023-10-06 21:00:00'}, {'dt': 1696636800, 'main': {'temp': 16.45, 'feels_like': 15.2, 'temp_min': 16.45, 'temp_max': 16.45, 'pressure': 1026, 'sea_level': 1026, 'grnd_level': 1021, 'humidity': 40, 'temp_kf': 0}, 'weather': [{'id': 804, 'main': 'Clouds', 'description': 'overcast clouds', 'icon': '04n'}], 'clouds': {'all': 92}, 'wind': {'speed': 1.05, 'deg': 163, 'gust': 1.12}, 'visibility': 10000, 'pop': 0, 'sys': {'pod': 'n'}, 'dt_txt': '2023-10-07 00:00:00'}, {'dt': 1696647600, 'main': {'temp': 15.37, 'feels_like': 14.09, 'temp_min': 15.37, 'temp_max': 15.37, 'pressure': 1025, 'sea_level': 1025, 'grnd_level': 1020, 'humidity': 43, 'temp_kf': 0}, 'weather': [{'id': 803, 'main': 'Clouds', 'description': 'broken clouds', 'icon': '04n'}], 'clouds': {'all': 73}, 'wind': {'speed': 0.8, 'deg': 243, 'gust': 0.93}, 'visibility': 10000, 'pop': 0, 'sys': {'pod': 'n'}, 'dt_txt': '2023-10-07 03:00:00'}, {'dt': 1696658400, 'main': {'temp': 14.8, 'feels_like': 13.51, 'temp_min': 14.8, 'temp_max': 14.8, 'pressure': 1025, 'sea_level': 1025, 'grnd_level': 1020, 'humidity': 45, 'temp_kf': 0}, 'weather': [{'id': 802, 'main': 'Clouds', 'description': 'scattered clouds', 'icon': '03d'}], 'clouds': {'all': 43}, 'wind': {'speed': 0.41, 'deg': 185, 'gust': 0.5}, 'visibility': 10000, 'pop': 0, 'sys': {'pod': 'd'}, 'dt_txt': '2023-10-07 06:00:00'}, {'dt': 1696669200, 'main': {'temp': 19.07, 'feels_like': 17.92, 'temp_min': 19.07, 'temp_max': 19.07, 'pressure': 1026, 'sea_level': 1026, 'grnd_level': 1021, 'humidity': 34, 'temp_kf': 0}, 'weather': [{'id': 800, 'main': 'Clear', 'description': 'clear sky', 'icon': '01d'}], 'clouds': {'all': 5}, 'wind': {'speed': 1.51, 'deg': 178, 'gust': 2.04}, 'visibility': 10000, 'pop': 0, 'sys': {'pod': 'd'}, 'dt_txt': '2023-10-07 09:00:00'}, {'dt': 1696680000, 'main': {'temp': 23.85, 'feels_like': 22.92, 'temp_min': 23.85, 'temp_max': 23.85, 'pressure': 1025, 'sea_level': 1025, 'grnd_level': 1020, 'humidity': 24, 'temp_kf': 0}, 'weather': [{'id': 800, 'main': 'Clear', 'description': 'clear sky', 'icon': '01d'}], 'clouds': {'all': 3}, 'wind': {'speed': 0.37, 'deg': 162, 'gust': 0.67}, 'visibility': 10000, 'pop': 0, 'sys': {'pod': 'd'}, 'dt_txt': '2023-10-07 12:00:00'}, {'dt': 1696690800, 'main': {'temp': 25.23, 'feels_like': 24.36, 'temp_min': 25.23, 'temp_max': 25.23, 'pressure': 1024, 'sea_level': 1024, 'grnd_level': 1019, 'humidity': 21, 'temp_kf': 0}, 'weather': [{'id': 800, 'main': 'Clear', 'description': 'clear sky', 'icon': '01d'}], 'clouds': {'all': 0}, 'wind': {'speed': 0.59, 'deg': 63, 'gust': 0.58}, 'visibility': 10000, 'pop': 0, 'sys': {'pod': 'd'}, 'dt_txt': '2023-10-07 15:00:00'}, {'dt': 1696701600, 'main': {'temp': 21.97, 'feels_like': 20.9, 'temp_min': 21.97, 'temp_max': 21.97, 'pressure': 1025, 'sea_level': 1025, 'grnd_level': 1019, 'humidity': 26, 'temp_kf': 0}, 'weather': [{'id': 800, 'main': 'Clear', 'description': 'clear sky', 'icon': '01n'}], 'clouds': {'all': 0}, 'wind': {'speed': 0.89, 'deg': 81, 'gust': 0.91}, 'visibility': 10000, 'pop': 0, 'sys': {'pod': 'n'}, 'dt_txt': '2023-10-07 18:00:00'}, {'dt': 1696712400, 'main': {'temp': 19.95, 'feels_like': 18.84, 'temp_min': 19.95, 'temp_max': 19.95, 'pressure': 1025, 'sea_level': 1025, 'grnd_level': 1020, 'humidity': 32, 'temp_kf': 0}, 'weather': [{'id': 800, 'main': 'Clear', 'description': 'clear sky', 'icon': '01n'}], 'clouds': {'all': 0}, 'wind': {'speed': 1.17, 'deg': 101, 'gust': 1.24}, 'visibility': 10000, 'pop': 0, 'sys': {'pod': 'n'}, 'dt_txt': '2023-10-07 21:00:00'}, {'dt': 1696723200, 'main': {'temp': 18.44, 'feels_like': 17.28, 'temp_min': 18.44, 'temp_max': 18.44, 'pressure': 1025, 'sea_level': 1025, 'grnd_level': 1019, 'humidity': 36, 'temp_kf': 0}, 'weather': [{'id': 800, 'main': 'Clear', 'description': 'clear sky', 'icon': '01n'}], 'clouds': {'all': 0}, 'wind': {'speed': 1.19, 'deg': 105, 'gust': 1.18}, 'visibility': 10000, 'pop': 0, 'sys': {'pod': 'n'}, 'dt_txt': '2023-10-08 00:00:00'}, {'dt': 1696734000, 'main': {'temp': 17.3, 'feels_like': 16.1, 'temp_min': 17.3, 'temp_max': 17.3, 'pressure': 1024, 'sea_level': 1024, 'grnd_level': 1019, 'humidity': 39, 'temp_kf': 0}, 'weather': [{'id': 800, 'main': 'Clear', 'description': 'clear sky', 'icon': '01n'}], 'clouds': {'all': 1}, 'wind': {'speed': 1.45, 'deg': 114, 'gust': 1.49}, 'visibility': 10000, 'pop': 0, 'sys': {'pod': 'n'}, 'dt_txt': '2023-10-08 03:00:00'}, {'dt': 1696744800, 'main': {'temp': 16.71, 'feels_like': 15.45, 'temp_min': 16.71, 'temp_max': 16.71, 'pressure': 1023, 'sea_level': 1023, 'grnd_level': 1018, 'humidity': 39, 'temp_kf': 0}, 'weather': [{'id': 802, 'main': 'Clouds', 'description': 'scattered clouds', 'icon': '03d'}], 'clouds': {'all': 32}, 'wind': {'speed': 1.23, 'deg': 134, 'gust': 1.23}, 'visibility': 10000, 'pop': 0, 'sys': {'pod': 'd'}, 'dt_txt': '2023-10-08 06:00:00'}, {'dt': 1696755600, 'main': {'temp': 20.3, 'feels_like': 19.25, 'temp_min': 20.3, 'temp_max': 20.3, 'pressure': 1024, 'sea_level': 1024, 'grnd_level': 1019, 'humidity': 33, 'temp_kf': 0}, 'weather': [{'id': 804, 'main': 'Clouds', 'description': 'overcast clouds', 'icon': '04d'}], 'clouds': {'all': 100}, 'wind': {'speed': 1.02, 'deg': 144, 'gust': 1.54}, 'visibility': 10000, 'pop': 0, 'sys': {'pod': 'd'}, 'dt_txt': '2023-10-08 09:00:00'}, {'dt': 1696766400, 'main': {'temp': 24.74, 'feels_like': 23.95, 'temp_min': 24.74, 'temp_max': 24.74, 'pressure': 1024, 'sea_level': 1024, 'grnd_level': 1019, 'humidity': 26, 'temp_kf': 0}, 'weather': [{'id': 804, 'main': 'Clouds', 'description': 'overcast clouds', 'icon': '04d'}], 'clouds': {'all': 92}, 'wind': {'speed': 1.11, 'deg': 95, 'gust': 1.38}, 'visibility': 10000, 'pop': 0, 'sys': {'pod': 'd'}, 'dt_txt': '2023-10-08 12:00:00'}, {'dt': 1696777200, 'main': {'temp': 26.32, 'feels_like': 26.32, 'temp_min': 26.32, 'temp_max': 26.32, 'pressure': 1022, 'sea_level': 1022, 'grnd_level': 1017, 'humidity': 25, 'temp_kf': 0}, 'weather': [{'id': 800, 'main': 'Clear', 'description': 'clear sky', 'icon': '01d'}], 'clouds': {'all': 7}, 'wind': {'speed': 0.75, 'deg': 130, 'gust': 1.32}, 'visibility': 10000, 'pop': 0, 'sys': {'pod': 'd'}, 'dt_txt': '2023-10-08 15:00:00'}, {'dt': 1696788000, 'main': {'temp': 22.88, 'feels_like': 22.03, 'temp_min': 22.88, 'temp_max': 22.88, 'pressure': 1022, 'sea_level': 1022, 'grnd_level': 1017, 'humidity': 31, 'temp_kf': 0}, 'weather': [{'id': 800, 'main': 'Clear', 'description': 'clear sky', 'icon': '01n'}], 'clouds': {'all': 4}, 'wind': {'speed': 0.64, 'deg': 338, 'gust': 0.69}, 'visibility': 10000, 'pop': 0, 'sys': {'pod': 'n'}, 'dt_txt': '2023-10-08 18:00:00'}, {'dt': 1696798800, 'main': {'temp': 20.84, 'feels_like': 19.89, 'temp_min': 20.84, 'temp_max': 20.84, 'pressure': 1022, 'sea_level': 1022, 'grnd_level': 1017, 'humidity': 35, 'temp_kf': 0}, 'weather': [{'id': 800, 'main': 'Clear', 'description': 'clear sky', 'icon': '01n'}], 'clouds': {'all': 10}, 'wind': {'speed': 0.58, 'deg': 350, 'gust': 0.78}, 'visibility': 10000, 'pop': 0, 'sys': {'pod': 'n'}, 'dt_txt': '2023-10-08 21:00:00'}, {'dt': 1696809600, 'main': {'temp': 19.32, 'feels_like': 18.3, 'temp_min': 19.32, 'temp_max': 19.32, 'pressure': 1022, 'sea_level': 1022, 'grnd_level': 1017, 'humidity': 38, 'temp_kf': 0}, 'weather': [{'id': 802, 'main': 'Clouds', 'description': 'scattered clouds', 'icon': '03n'}], 'clouds': {'all': 37}, 'wind': {'speed': 0.92, 'deg': 285, 'gust': 0.93}, 'visibility': 10000, 'pop': 0, 'sys': {'pod': 'n'}, 'dt_txt': '2023-10-09 00:00:00'}, {'dt': 1696820400, 'main': {'temp': 17.76, 'feels_like': 16.74, 'temp_min': 17.76, 'temp_max': 17.76, 'pressure': 1021, 'sea_level': 1021, 'grnd_level': 1016, 'humidity': 44, 'temp_kf': 0}, 'weather': [{'id': 802, 'main': 'Clouds', 'description': 'scattered clouds', 'icon': '03n'}], 'clouds': {'all': 33}, 'wind': {'speed': 1.6, 'deg': 279, 'gust': 1.88}, 'visibility': 10000, 'pop': 0, 'sys': {'pod': 'n'}, 'dt_txt': '2023-10-09 03:00:00'}, {'dt': 1696831200, 'main': {'temp': 16.94, 'feels_like': 16.02, 'temp_min': 16.94, 'temp_max': 16.94, 'pressure': 1020, 'sea_level': 1020, 'grnd_level': 1015, 'humidity': 51, 'temp_kf': 0}, 'weather': [{'id': 803, 'main': 'Clouds', 'description': 'broken clouds', 'icon': '04n'}], 'clouds': {'all': 55}, 'wind': {'speed': 1.79, 'deg': 266, 'gust': 3.5}, 'visibility': 10000, 'pop': 0, 'sys': {'pod': 'n'}, 'dt_txt': '2023-10-09 06:00:00'}, {'dt': 1696842000, 'main': {'temp': 20.3, 'feels_like': 19.4, 'temp_min': 20.3, 'temp_max': 20.3, 'pressure': 1021, 'sea_level': 1021, 'grnd_level': 1016, 'humidity': 39, 'temp_kf': 0}, 'weather': [{'id': 804, 'main': 'Clouds', 'description': 'overcast clouds', 'icon': '04d'}], 'clouds': {'all': 100}, 'wind': {'speed': 3.03, 'deg': 260, 'gust': 5.92}, 'visibility': 10000, 'pop': 0, 'sys': {'pod': 'd'}, 'dt_txt': '2023-10-09 09:00:00'}, {'dt': 1696852800, 'main': {'temp': 24.75, 'feels_like': 24.01, 'temp_min': 24.75, 'temp_max': 24.75, 'pressure': 1019, 'sea_level': 1019, 'grnd_level': 1014, 'humidity': 28, 'temp_kf': 0}, 'weather': [{'id': 804, 'main': 'Clouds', 'description': 'overcast clouds', 'icon': '04d'}], 'clouds': {'all': 96}, 'wind': {'speed': 4.79, 'deg': 280, 'gust': 7.43}, 'visibility': 10000, 'pop': 0, 'sys': {'pod': 'd'}, 'dt_txt': '2023-10-09 12:00:00'}], 'city': {'id': 6455259, 'name': 'Paris', 'coord': {'lat': 48.8483, 'lon': 2.349}, 'country': 'FR', 'population': 0, 'timezone': 7200, 'sunrise': 1696398820, 'sunset': 1696440302}}\n",
            "{'cod': '200', 'message': 0, 'cnt': 40, 'list': [{'dt': 1696431600, 'main': {'temp': 27.1, 'feels_like': 27.33, 'temp_min': 27.1, 'temp_max': 28.91, 'pressure': 1025, 'sea_level': 1025, 'grnd_level': 949, 'humidity': 47, 'temp_kf': -1.81}, 'weather': [{'id': 800, 'main': 'Clear', 'description': 'clear sky', 'icon': '01d'}], 'clouds': {'all': 0}, 'wind': {'speed': 2.11, 'deg': 217, 'gust': 2.89}, 'visibility': 10000, 'pop': 0, 'sys': {'pod': 'd'}, 'dt_txt': '2023-10-04 15:00:00'}, {'dt': 1696442400, 'main': {'temp': 27.09, 'feels_like': 26.98, 'temp_min': 27.08, 'temp_max': 27.09, 'pressure': 1024, 'sea_level': 1024, 'grnd_level': 948, 'humidity': 41, 'temp_kf': 0.01}, 'weather': [{'id': 800, 'main': 'Clear', 'description': 'clear sky', 'icon': '01n'}], 'clouds': {'all': 0}, 'wind': {'speed': 1.98, 'deg': 240, 'gust': 2.45}, 'visibility': 10000, 'pop': 0, 'sys': {'pod': 'n'}, 'dt_txt': '2023-10-04 18:00:00'}, {'dt': 1696453200, 'main': {'temp': 25.86, 'feels_like': 25.52, 'temp_min': 25.24, 'temp_max': 25.86, 'pressure': 1024, 'sea_level': 1024, 'grnd_level': 948, 'humidity': 39, 'temp_kf': 0.62}, 'weather': [{'id': 800, 'main': 'Clear', 'description': 'clear sky', 'icon': '01n'}], 'clouds': {'all': 0}, 'wind': {'speed': 1.09, 'deg': 236, 'gust': 1.42}, 'visibility': 10000, 'pop': 0, 'sys': {'pod': 'n'}, 'dt_txt': '2023-10-04 21:00:00'}, {'dt': 1696464000, 'main': {'temp': 23.32, 'feels_like': 22.73, 'temp_min': 23.32, 'temp_max': 23.32, 'pressure': 1023, 'sea_level': 1023, 'grnd_level': 948, 'humidity': 39, 'temp_kf': 0}, 'weather': [{'id': 800, 'main': 'Clear', 'description': 'clear sky', 'icon': '01n'}], 'clouds': {'all': 0}, 'wind': {'speed': 1.45, 'deg': 120, 'gust': 1.67}, 'visibility': 10000, 'pop': 0, 'sys': {'pod': 'n'}, 'dt_txt': '2023-10-05 00:00:00'}, {'dt': 1696474800, 'main': {'temp': 21.62, 'feels_like': 20.99, 'temp_min': 21.62, 'temp_max': 21.62, 'pressure': 1023, 'sea_level': 1023, 'grnd_level': 947, 'humidity': 44, 'temp_kf': 0}, 'weather': [{'id': 800, 'main': 'Clear', 'description': 'clear sky', 'icon': '01n'}], 'clouds': {'all': 0}, 'wind': {'speed': 1.84, 'deg': 85, 'gust': 2.45}, 'visibility': 10000, 'pop': 0, 'sys': {'pod': 'n'}, 'dt_txt': '2023-10-05 03:00:00'}, {'dt': 1696485600, 'main': {'temp': 20.5, 'feels_like': 19.86, 'temp_min': 20.5, 'temp_max': 20.5, 'pressure': 1024, 'sea_level': 1024, 'grnd_level': 948, 'humidity': 48, 'temp_kf': 0}, 'weather': [{'id': 800, 'main': 'Clear', 'description': 'clear sky', 'icon': '01n'}], 'clouds': {'all': 0}, 'wind': {'speed': 1.56, 'deg': 70, 'gust': 2.03}, 'visibility': 10000, 'pop': 0, 'sys': {'pod': 'n'}, 'dt_txt': '2023-10-05 06:00:00'}, {'dt': 1696496400, 'main': {'temp': 23.36, 'feels_like': 22.8, 'temp_min': 23.36, 'temp_max': 23.36, 'pressure': 1025, 'sea_level': 1025, 'grnd_level': 949, 'humidity': 40, 'temp_kf': 0}, 'weather': [{'id': 800, 'main': 'Clear', 'description': 'clear sky', 'icon': '01d'}], 'clouds': {'all': 0}, 'wind': {'speed': 2.24, 'deg': 83, 'gust': 2.43}, 'visibility': 10000, 'pop': 0, 'sys': {'pod': 'd'}, 'dt_txt': '2023-10-05 09:00:00'}, {'dt': 1696507200, 'main': {'temp': 27.6, 'feels_like': 26.77, 'temp_min': 27.6, 'temp_max': 27.6, 'pressure': 1023, 'sea_level': 1023, 'grnd_level': 949, 'humidity': 29, 'temp_kf': 0}, 'weather': [{'id': 800, 'main': 'Clear', 'description': 'clear sky', 'icon': '01d'}], 'clouds': {'all': 0}, 'wind': {'speed': 1.3, 'deg': 122, 'gust': 1.64}, 'visibility': 10000, 'pop': 0, 'sys': {'pod': 'd'}, 'dt_txt': '2023-10-05 12:00:00'}, {'dt': 1696518000, 'main': {'temp': 29.81, 'feels_like': 28.19, 'temp_min': 29.81, 'temp_max': 29.81, 'pressure': 1021, 'sea_level': 1021, 'grnd_level': 948, 'humidity': 23, 'temp_kf': 0}, 'weather': [{'id': 800, 'main': 'Clear', 'description': 'clear sky', 'icon': '01d'}], 'clouds': {'all': 0}, 'wind': {'speed': 0.67, 'deg': 183, 'gust': 1.25}, 'visibility': 10000, 'pop': 0, 'sys': {'pod': 'd'}, 'dt_txt': '2023-10-05 15:00:00'}, {'dt': 1696528800, 'main': {'temp': 27.78, 'feels_like': 26.81, 'temp_min': 27.78, 'temp_max': 27.78, 'pressure': 1021, 'sea_level': 1021, 'grnd_level': 947, 'humidity': 27, 'temp_kf': 0}, 'weather': [{'id': 800, 'main': 'Clear', 'description': 'clear sky', 'icon': '01n'}], 'clouds': {'all': 0}, 'wind': {'speed': 0.74, 'deg': 222, 'gust': 1.66}, 'visibility': 10000, 'pop': 0, 'sys': {'pod': 'n'}, 'dt_txt': '2023-10-05 18:00:00'}, {'dt': 1696539600, 'main': {'temp': 25.94, 'feels_like': 25.35, 'temp_min': 25.94, 'temp_max': 25.94, 'pressure': 1022, 'sea_level': 1022, 'grnd_level': 948, 'humidity': 29, 'temp_kf': 0}, 'weather': [{'id': 800, 'main': 'Clear', 'description': 'clear sky', 'icon': '01n'}], 'clouds': {'all': 0}, 'wind': {'speed': 1.05, 'deg': 357, 'gust': 1.35}, 'visibility': 10000, 'pop': 0, 'sys': {'pod': 'n'}, 'dt_txt': '2023-10-05 21:00:00'}, {'dt': 1696550400, 'main': {'temp': 23.45, 'feels_like': 22.66, 'temp_min': 23.45, 'temp_max': 23.45, 'pressure': 1022, 'sea_level': 1022, 'grnd_level': 947, 'humidity': 31, 'temp_kf': 0}, 'weather': [{'id': 800, 'main': 'Clear', 'description': 'clear sky', 'icon': '01n'}], 'clouds': {'all': 0}, 'wind': {'speed': 1.48, 'deg': 100, 'gust': 1.9}, 'visibility': 10000, 'pop': 0, 'sys': {'pod': 'n'}, 'dt_txt': '2023-10-06 00:00:00'}, {'dt': 1696561200, 'main': {'temp': 22.11, 'feels_like': 21.24, 'temp_min': 22.11, 'temp_max': 22.11, 'pressure': 1023, 'sea_level': 1023, 'grnd_level': 947, 'humidity': 33, 'temp_kf': 0}, 'weather': [{'id': 800, 'main': 'Clear', 'description': 'clear sky', 'icon': '01n'}], 'clouds': {'all': 2}, 'wind': {'speed': 2.03, 'deg': 63, 'gust': 2.38}, 'visibility': 10000, 'pop': 0, 'sys': {'pod': 'n'}, 'dt_txt': '2023-10-06 03:00:00'}, {'dt': 1696572000, 'main': {'temp': 20.73, 'feels_like': 19.82, 'temp_min': 20.73, 'temp_max': 20.73, 'pressure': 1023, 'sea_level': 1023, 'grnd_level': 947, 'humidity': 37, 'temp_kf': 0}, 'weather': [{'id': 800, 'main': 'Clear', 'description': 'clear sky', 'icon': '01n'}], 'clouds': {'all': 6}, 'wind': {'speed': 2.2, 'deg': 56, 'gust': 3.21}, 'visibility': 10000, 'pop': 0, 'sys': {'pod': 'n'}, 'dt_txt': '2023-10-06 06:00:00'}, {'dt': 1696582800, 'main': {'temp': 23.86, 'feels_like': 23.08, 'temp_min': 23.86, 'temp_max': 23.86, 'pressure': 1024, 'sea_level': 1024, 'grnd_level': 949, 'humidity': 30, 'temp_kf': 0}, 'weather': [{'id': 800, 'main': 'Clear', 'description': 'clear sky', 'icon': '01d'}], 'clouds': {'all': 8}, 'wind': {'speed': 2.05, 'deg': 69, 'gust': 2.42}, 'visibility': 10000, 'pop': 0, 'sys': {'pod': 'd'}, 'dt_txt': '2023-10-06 09:00:00'}, {'dt': 1696593600, 'main': {'temp': 28.17, 'feels_like': 26.91, 'temp_min': 28.17, 'temp_max': 28.17, 'pressure': 1022, 'sea_level': 1022, 'grnd_level': 949, 'humidity': 22, 'temp_kf': 0}, 'weather': [{'id': 800, 'main': 'Clear', 'description': 'clear sky', 'icon': '01d'}], 'clouds': {'all': 7}, 'wind': {'speed': 1.72, 'deg': 109, 'gust': 2.47}, 'visibility': 10000, 'pop': 0, 'sys': {'pod': 'd'}, 'dt_txt': '2023-10-06 12:00:00'}, {'dt': 1696604400, 'main': {'temp': 30.26, 'feels_like': 28.42, 'temp_min': 30.26, 'temp_max': 30.26, 'pressure': 1020, 'sea_level': 1020, 'grnd_level': 947, 'humidity': 19, 'temp_kf': 0}, 'weather': [{'id': 800, 'main': 'Clear', 'description': 'clear sky', 'icon': '01d'}], 'clouds': {'all': 5}, 'wind': {'speed': 1.55, 'deg': 95, 'gust': 3.23}, 'visibility': 10000, 'pop': 0, 'sys': {'pod': 'd'}, 'dt_txt': '2023-10-06 15:00:00'}, {'dt': 1696615200, 'main': {'temp': 28.06, 'feels_like': 26.78, 'temp_min': 28.06, 'temp_max': 28.06, 'pressure': 1020, 'sea_level': 1020, 'grnd_level': 946, 'humidity': 20, 'temp_kf': 0}, 'weather': [{'id': 800, 'main': 'Clear', 'description': 'clear sky', 'icon': '01n'}], 'clouds': {'all': 5}, 'wind': {'speed': 0.85, 'deg': 92, 'gust': 2.17}, 'visibility': 10000, 'pop': 0, 'sys': {'pod': 'n'}, 'dt_txt': '2023-10-06 18:00:00'}, {'dt': 1696626000, 'main': {'temp': 25.4, 'feels_like': 24.6, 'temp_min': 25.4, 'temp_max': 25.4, 'pressure': 1022, 'sea_level': 1022, 'grnd_level': 947, 'humidity': 23, 'temp_kf': 0}, 'weather': [{'id': 800, 'main': 'Clear', 'description': 'clear sky', 'icon': '01n'}], 'clouds': {'all': 4}, 'wind': {'speed': 2.11, 'deg': 122, 'gust': 3.08}, 'visibility': 10000, 'pop': 0, 'sys': {'pod': 'n'}, 'dt_txt': '2023-10-06 21:00:00'}, {'dt': 1696636800, 'main': {'temp': 23.06, 'feels_like': 22.23, 'temp_min': 23.06, 'temp_max': 23.06, 'pressure': 1022, 'sea_level': 1022, 'grnd_level': 947, 'humidity': 31, 'temp_kf': 0}, 'weather': [{'id': 801, 'main': 'Clouds', 'description': 'few clouds', 'icon': '02n'}], 'clouds': {'all': 12}, 'wind': {'speed': 2.47, 'deg': 52, 'gust': 3.38}, 'visibility': 10000, 'pop': 0, 'sys': {'pod': 'n'}, 'dt_txt': '2023-10-07 00:00:00'}, {'dt': 1696647600, 'main': {'temp': 21.69, 'feels_like': 20.75, 'temp_min': 21.69, 'temp_max': 21.69, 'pressure': 1022, 'sea_level': 1022, 'grnd_level': 947, 'humidity': 32, 'temp_kf': 0}, 'weather': [{'id': 802, 'main': 'Clouds', 'description': 'scattered clouds', 'icon': '03n'}], 'clouds': {'all': 46}, 'wind': {'speed': 2.96, 'deg': 59, 'gust': 4.33}, 'visibility': 10000, 'pop': 0, 'sys': {'pod': 'n'}, 'dt_txt': '2023-10-07 03:00:00'}, {'dt': 1696658400, 'main': {'temp': 20.38, 'feels_like': 19.39, 'temp_min': 20.38, 'temp_max': 20.38, 'pressure': 1022, 'sea_level': 1022, 'grnd_level': 947, 'humidity': 35, 'temp_kf': 0}, 'weather': [{'id': 802, 'main': 'Clouds', 'description': 'scattered clouds', 'icon': '03n'}], 'clouds': {'all': 39}, 'wind': {'speed': 2.67, 'deg': 55, 'gust': 3.93}, 'visibility': 10000, 'pop': 0, 'sys': {'pod': 'n'}, 'dt_txt': '2023-10-07 06:00:00'}, {'dt': 1696669200, 'main': {'temp': 22.91, 'feels_like': 22.07, 'temp_min': 22.91, 'temp_max': 22.91, 'pressure': 1023, 'sea_level': 1023, 'grnd_level': 948, 'humidity': 31, 'temp_kf': 0}, 'weather': [{'id': 804, 'main': 'Clouds', 'description': 'overcast clouds', 'icon': '04d'}], 'clouds': {'all': 96}, 'wind': {'speed': 2.67, 'deg': 75, 'gust': 3.63}, 'visibility': 10000, 'pop': 0, 'sys': {'pod': 'd'}, 'dt_txt': '2023-10-07 09:00:00'}, {'dt': 1696680000, 'main': {'temp': 27.14, 'feels_like': 26.29, 'temp_min': 27.14, 'temp_max': 27.14, 'pressure': 1022, 'sea_level': 1022, 'grnd_level': 948, 'humidity': 24, 'temp_kf': 0}, 'weather': [{'id': 804, 'main': 'Clouds', 'description': 'overcast clouds', 'icon': '04d'}], 'clouds': {'all': 86}, 'wind': {'speed': 2.46, 'deg': 95, 'gust': 3.36}, 'visibility': 10000, 'pop': 0, 'sys': {'pod': 'd'}, 'dt_txt': '2023-10-07 12:00:00'}, {'dt': 1696690800, 'main': {'temp': 29.73, 'feels_like': 27.97, 'temp_min': 29.73, 'temp_max': 29.73, 'pressure': 1020, 'sea_level': 1020, 'grnd_level': 947, 'humidity': 18, 'temp_kf': 0}, 'weather': [{'id': 802, 'main': 'Clouds', 'description': 'scattered clouds', 'icon': '03d'}], 'clouds': {'all': 28}, 'wind': {'speed': 1.23, 'deg': 105, 'gust': 2.16}, 'visibility': 10000, 'pop': 0, 'sys': {'pod': 'd'}, 'dt_txt': '2023-10-07 15:00:00'}, {'dt': 1696701600, 'main': {'temp': 27.14, 'feels_like': 26.2, 'temp_min': 27.14, 'temp_max': 27.14, 'pressure': 1020, 'sea_level': 1020, 'grnd_level': 946, 'humidity': 21, 'temp_kf': 0}, 'weather': [{'id': 803, 'main': 'Clouds', 'description': 'broken clouds', 'icon': '04n'}], 'clouds': {'all': 54}, 'wind': {'speed': 0.47, 'deg': 22, 'gust': 0.96}, 'visibility': 10000, 'pop': 0, 'sys': {'pod': 'n'}, 'dt_txt': '2023-10-07 18:00:00'}, {'dt': 1696712400, 'main': {'temp': 24.99, 'feels_like': 24.15, 'temp_min': 24.99, 'temp_max': 24.99, 'pressure': 1022, 'sea_level': 1022, 'grnd_level': 947, 'humidity': 23, 'temp_kf': 0}, 'weather': [{'id': 804, 'main': 'Clouds', 'description': 'overcast clouds', 'icon': '04n'}], 'clouds': {'all': 100}, 'wind': {'speed': 2.58, 'deg': 101, 'gust': 4.76}, 'visibility': 10000, 'pop': 0, 'sys': {'pod': 'n'}, 'dt_txt': '2023-10-07 21:00:00'}, {'dt': 1696723200, 'main': {'temp': 22.91, 'feels_like': 22.09, 'temp_min': 22.91, 'temp_max': 22.91, 'pressure': 1022, 'sea_level': 1022, 'grnd_level': 947, 'humidity': 32, 'temp_kf': 0}, 'weather': [{'id': 804, 'main': 'Clouds', 'description': 'overcast clouds', 'icon': '04n'}], 'clouds': {'all': 100}, 'wind': {'speed': 1.95, 'deg': 58, 'gust': 2.56}, 'visibility': 10000, 'pop': 0, 'sys': {'pod': 'n'}, 'dt_txt': '2023-10-08 00:00:00'}, {'dt': 1696734000, 'main': {'temp': 21.54, 'feels_like': 20.61, 'temp_min': 21.54, 'temp_max': 21.54, 'pressure': 1023, 'sea_level': 1023, 'grnd_level': 947, 'humidity': 33, 'temp_kf': 0}, 'weather': [{'id': 804, 'main': 'Clouds', 'description': 'overcast clouds', 'icon': '04n'}], 'clouds': {'all': 99}, 'wind': {'speed': 2.46, 'deg': 71, 'gust': 3.44}, 'visibility': 10000, 'pop': 0, 'sys': {'pod': 'n'}, 'dt_txt': '2023-10-08 03:00:00'}, {'dt': 1696744800, 'main': {'temp': 20.26, 'feels_like': 19.31, 'temp_min': 20.26, 'temp_max': 20.26, 'pressure': 1023, 'sea_level': 1023, 'grnd_level': 947, 'humidity': 37, 'temp_kf': 0}, 'weather': [{'id': 804, 'main': 'Clouds', 'description': 'overcast clouds', 'icon': '04n'}], 'clouds': {'all': 96}, 'wind': {'speed': 1.31, 'deg': 90, 'gust': 1.36}, 'visibility': 10000, 'pop': 0, 'sys': {'pod': 'n'}, 'dt_txt': '2023-10-08 06:00:00'}, {'dt': 1696755600, 'main': {'temp': 22.69, 'feels_like': 21.88, 'temp_min': 22.69, 'temp_max': 22.69, 'pressure': 1024, 'sea_level': 1024, 'grnd_level': 949, 'humidity': 33, 'temp_kf': 0}, 'weather': [{'id': 804, 'main': 'Clouds', 'description': 'overcast clouds', 'icon': '04d'}], 'clouds': {'all': 100}, 'wind': {'speed': 1.51, 'deg': 75, 'gust': 1.64}, 'visibility': 10000, 'pop': 0, 'sys': {'pod': 'd'}, 'dt_txt': '2023-10-08 09:00:00'}, {'dt': 1696766400, 'main': {'temp': 26.46, 'feels_like': 26.46, 'temp_min': 26.46, 'temp_max': 26.46, 'pressure': 1023, 'sea_level': 1023, 'grnd_level': 949, 'humidity': 25, 'temp_kf': 0}, 'weather': [{'id': 804, 'main': 'Clouds', 'description': 'overcast clouds', 'icon': '04d'}], 'clouds': {'all': 100}, 'wind': {'speed': 1.08, 'deg': 85, 'gust': 1.25}, 'visibility': 10000, 'pop': 0, 'sys': {'pod': 'd'}, 'dt_txt': '2023-10-08 12:00:00'}, {'dt': 1696777200, 'main': {'temp': 28.5, 'feels_like': 27.07, 'temp_min': 28.5, 'temp_max': 28.5, 'pressure': 1021, 'sea_level': 1021, 'grnd_level': 947, 'humidity': 19, 'temp_kf': 0}, 'weather': [{'id': 804, 'main': 'Clouds', 'description': 'overcast clouds', 'icon': '04d'}], 'clouds': {'all': 97}, 'wind': {'speed': 0.92, 'deg': 111, 'gust': 1.14}, 'visibility': 10000, 'pop': 0, 'sys': {'pod': 'd'}, 'dt_txt': '2023-10-08 15:00:00'}, {'dt': 1696788000, 'main': {'temp': 26.36, 'feels_like': 26.36, 'temp_min': 26.36, 'temp_max': 26.36, 'pressure': 1021, 'sea_level': 1021, 'grnd_level': 947, 'humidity': 23, 'temp_kf': 0}, 'weather': [{'id': 804, 'main': 'Clouds', 'description': 'overcast clouds', 'icon': '04n'}], 'clouds': {'all': 99}, 'wind': {'speed': 0.94, 'deg': 232, 'gust': 1.3}, 'visibility': 10000, 'pop': 0, 'sys': {'pod': 'n'}, 'dt_txt': '2023-10-08 18:00:00'}, {'dt': 1696798800, 'main': {'temp': 24.67, 'feels_like': 23.85, 'temp_min': 24.67, 'temp_max': 24.67, 'pressure': 1022, 'sea_level': 1022, 'grnd_level': 947, 'humidity': 25, 'temp_kf': 0}, 'weather': [{'id': 803, 'main': 'Clouds', 'description': 'broken clouds', 'icon': '04n'}], 'clouds': {'all': 71}, 'wind': {'speed': 0.71, 'deg': 351, 'gust': 0.93}, 'visibility': 10000, 'pop': 0, 'sys': {'pod': 'n'}, 'dt_txt': '2023-10-08 21:00:00'}, {'dt': 1696809600, 'main': {'temp': 22.98, 'feels_like': 22.04, 'temp_min': 22.98, 'temp_max': 22.98, 'pressure': 1022, 'sea_level': 1022, 'grnd_level': 947, 'humidity': 27, 'temp_kf': 0}, 'weather': [{'id': 802, 'main': 'Clouds', 'description': 'scattered clouds', 'icon': '03n'}], 'clouds': {'all': 43}, 'wind': {'speed': 2.01, 'deg': 64, 'gust': 2.73}, 'visibility': 10000, 'pop': 0, 'sys': {'pod': 'n'}, 'dt_txt': '2023-10-09 00:00:00'}, {'dt': 1696820400, 'main': {'temp': 20.89, 'feels_like': 19.95, 'temp_min': 20.89, 'temp_max': 20.89, 'pressure': 1022, 'sea_level': 1022, 'grnd_level': 947, 'humidity': 35, 'temp_kf': 0}, 'weather': [{'id': 800, 'main': 'Clear', 'description': 'clear sky', 'icon': '01n'}], 'clouds': {'all': 4}, 'wind': {'speed': 1.65, 'deg': 78, 'gust': 2.54}, 'visibility': 10000, 'pop': 0, 'sys': {'pod': 'n'}, 'dt_txt': '2023-10-09 03:00:00'}, {'dt': 1696831200, 'main': {'temp': 19.5, 'feels_like': 18.71, 'temp_min': 19.5, 'temp_max': 19.5, 'pressure': 1023, 'sea_level': 1023, 'grnd_level': 947, 'humidity': 46, 'temp_kf': 0}, 'weather': [{'id': 800, 'main': 'Clear', 'description': 'clear sky', 'icon': '01n'}], 'clouds': {'all': 3}, 'wind': {'speed': 1.52, 'deg': 84, 'gust': 2.12}, 'visibility': 10000, 'pop': 0, 'sys': {'pod': 'n'}, 'dt_txt': '2023-10-09 06:00:00'}, {'dt': 1696842000, 'main': {'temp': 22.26, 'feels_like': 21.69, 'temp_min': 22.26, 'temp_max': 22.26, 'pressure': 1024, 'sea_level': 1024, 'grnd_level': 949, 'humidity': 44, 'temp_kf': 0}, 'weather': [{'id': 800, 'main': 'Clear', 'description': 'clear sky', 'icon': '01d'}], 'clouds': {'all': 1}, 'wind': {'speed': 1.29, 'deg': 88, 'gust': 1.25}, 'visibility': 10000, 'pop': 0, 'sys': {'pod': 'd'}, 'dt_txt': '2023-10-09 09:00:00'}, {'dt': 1696852800, 'main': {'temp': 26.43, 'feels_like': 26.43, 'temp_min': 26.43, 'temp_max': 26.43, 'pressure': 1022, 'sea_level': 1022, 'grnd_level': 948, 'humidity': 33, 'temp_kf': 0}, 'weather': [{'id': 800, 'main': 'Clear', 'description': 'clear sky', 'icon': '01d'}], 'clouds': {'all': 3}, 'wind': {'speed': 0.55, 'deg': 172, 'gust': 0.56}, 'visibility': 10000, 'pop': 0, 'sys': {'pod': 'd'}, 'dt_txt': '2023-10-09 12:00:00'}], 'city': {'id': 3117735, 'name': 'Madrid', 'coord': {'lat': 40.4165, 'lon': -3.7026}, 'country': 'ES', 'population': 1000000, 'timezone': 7200, 'sunrise': 1696400017, 'sunset': 1696442009}}\n"
          ]
        }
      ]
    },
    {
      "cell_type": "code",
      "source": [
        "def transform_to_df(forecast_data, cities):\n",
        "    city_dfs = []\n",
        "\n",
        "    for i, city_data in enumerate(forecast_data):\n",
        "        # Create a dictionary with the data we're interested in\n",
        "        data = {\n",
        "            'date': [item['dt_txt'] for item in city_data['list']],\n",
        "            'temp': [item['main']['temp'] for item in city_data['list']],\n",
        "            'humidity': [item['main']['humidity'] for item in city_data['list']],\n",
        "        }\n",
        "\n",
        "        # Create a DataFrame from the dictionary\n",
        "        df = pd.DataFrame(data)\n",
        "\n",
        "        # Add a column with the city name\n",
        "        df['city'] = cities[i]\n",
        "\n",
        "        city_dfs.append(df)\n",
        "\n",
        "    # Concatenate all the city DataFrames into one DataFrame\n",
        "    forecast_df = pd.concat(city_dfs, ignore_index=True)\n",
        "\n",
        "    return forecast_df"
      ],
      "metadata": {
        "id": "kDOk-kRp8pEh"
      },
      "execution_count": 56,
      "outputs": []
    },
    {
      "cell_type": "code",
      "source": [
        "forecast_df = transform_to_df(forecast_data, cities)\n",
        "\n",
        "# Now, forecast_df is a DataFrame with the forecast data for all cities\n",
        "print(forecast_df)"
      ],
      "metadata": {
        "colab": {
          "base_uri": "https://localhost:8080/"
        },
        "id": "D95zGw7_-hWN",
        "outputId": "d40672b5-37a0-4490-b928-525eabe74002"
      },
      "execution_count": 57,
      "outputs": [
        {
          "output_type": "stream",
          "name": "stdout",
          "text": [
            "                    date   temp  humidity    city\n",
            "0    2023-10-04 15:00:00  17.45        65  Berlin\n",
            "1    2023-10-04 18:00:00  17.02        61  Berlin\n",
            "2    2023-10-04 21:00:00  16.03        63  Berlin\n",
            "3    2023-10-05 00:00:00  13.91        66  Berlin\n",
            "4    2023-10-05 03:00:00  13.22        70  Berlin\n",
            "..                   ...    ...       ...     ...\n",
            "115  2023-10-09 00:00:00  22.98        27  Madrid\n",
            "116  2023-10-09 03:00:00  20.89        35  Madrid\n",
            "117  2023-10-09 06:00:00  19.50        46  Madrid\n",
            "118  2023-10-09 09:00:00  22.26        44  Madrid\n",
            "119  2023-10-09 12:00:00  26.43        33  Madrid\n",
            "\n",
            "[120 rows x 4 columns]\n"
          ]
        }
      ]
    },
    {
      "cell_type": "code",
      "source": [
        "forecast_df.reset_index()"
      ],
      "metadata": {
        "id": "exKGsmwVAMsV",
        "colab": {
          "base_uri": "https://localhost:8080/",
          "height": 424
        },
        "outputId": "f2042f44-186e-41b8-b3ee-dea6146d79e6"
      },
      "execution_count": 58,
      "outputs": [
        {
          "output_type": "execute_result",
          "data": {
            "text/plain": [
              "     index                 date   temp  humidity    city\n",
              "0        0  2023-10-04 15:00:00  17.45        65  Berlin\n",
              "1        1  2023-10-04 18:00:00  17.02        61  Berlin\n",
              "2        2  2023-10-04 21:00:00  16.03        63  Berlin\n",
              "3        3  2023-10-05 00:00:00  13.91        66  Berlin\n",
              "4        4  2023-10-05 03:00:00  13.22        70  Berlin\n",
              "..     ...                  ...    ...       ...     ...\n",
              "115    115  2023-10-09 00:00:00  22.98        27  Madrid\n",
              "116    116  2023-10-09 03:00:00  20.89        35  Madrid\n",
              "117    117  2023-10-09 06:00:00  19.50        46  Madrid\n",
              "118    118  2023-10-09 09:00:00  22.26        44  Madrid\n",
              "119    119  2023-10-09 12:00:00  26.43        33  Madrid\n",
              "\n",
              "[120 rows x 5 columns]"
            ],
            "text/html": [
              "\n",
              "  <div id=\"df-f1969191-d301-4221-a262-0560ad028658\" class=\"colab-df-container\">\n",
              "    <div>\n",
              "<style scoped>\n",
              "    .dataframe tbody tr th:only-of-type {\n",
              "        vertical-align: middle;\n",
              "    }\n",
              "\n",
              "    .dataframe tbody tr th {\n",
              "        vertical-align: top;\n",
              "    }\n",
              "\n",
              "    .dataframe thead th {\n",
              "        text-align: right;\n",
              "    }\n",
              "</style>\n",
              "<table border=\"1\" class=\"dataframe\">\n",
              "  <thead>\n",
              "    <tr style=\"text-align: right;\">\n",
              "      <th></th>\n",
              "      <th>index</th>\n",
              "      <th>date</th>\n",
              "      <th>temp</th>\n",
              "      <th>humidity</th>\n",
              "      <th>city</th>\n",
              "    </tr>\n",
              "  </thead>\n",
              "  <tbody>\n",
              "    <tr>\n",
              "      <th>0</th>\n",
              "      <td>0</td>\n",
              "      <td>2023-10-04 15:00:00</td>\n",
              "      <td>17.45</td>\n",
              "      <td>65</td>\n",
              "      <td>Berlin</td>\n",
              "    </tr>\n",
              "    <tr>\n",
              "      <th>1</th>\n",
              "      <td>1</td>\n",
              "      <td>2023-10-04 18:00:00</td>\n",
              "      <td>17.02</td>\n",
              "      <td>61</td>\n",
              "      <td>Berlin</td>\n",
              "    </tr>\n",
              "    <tr>\n",
              "      <th>2</th>\n",
              "      <td>2</td>\n",
              "      <td>2023-10-04 21:00:00</td>\n",
              "      <td>16.03</td>\n",
              "      <td>63</td>\n",
              "      <td>Berlin</td>\n",
              "    </tr>\n",
              "    <tr>\n",
              "      <th>3</th>\n",
              "      <td>3</td>\n",
              "      <td>2023-10-05 00:00:00</td>\n",
              "      <td>13.91</td>\n",
              "      <td>66</td>\n",
              "      <td>Berlin</td>\n",
              "    </tr>\n",
              "    <tr>\n",
              "      <th>4</th>\n",
              "      <td>4</td>\n",
              "      <td>2023-10-05 03:00:00</td>\n",
              "      <td>13.22</td>\n",
              "      <td>70</td>\n",
              "      <td>Berlin</td>\n",
              "    </tr>\n",
              "    <tr>\n",
              "      <th>...</th>\n",
              "      <td>...</td>\n",
              "      <td>...</td>\n",
              "      <td>...</td>\n",
              "      <td>...</td>\n",
              "      <td>...</td>\n",
              "    </tr>\n",
              "    <tr>\n",
              "      <th>115</th>\n",
              "      <td>115</td>\n",
              "      <td>2023-10-09 00:00:00</td>\n",
              "      <td>22.98</td>\n",
              "      <td>27</td>\n",
              "      <td>Madrid</td>\n",
              "    </tr>\n",
              "    <tr>\n",
              "      <th>116</th>\n",
              "      <td>116</td>\n",
              "      <td>2023-10-09 03:00:00</td>\n",
              "      <td>20.89</td>\n",
              "      <td>35</td>\n",
              "      <td>Madrid</td>\n",
              "    </tr>\n",
              "    <tr>\n",
              "      <th>117</th>\n",
              "      <td>117</td>\n",
              "      <td>2023-10-09 06:00:00</td>\n",
              "      <td>19.50</td>\n",
              "      <td>46</td>\n",
              "      <td>Madrid</td>\n",
              "    </tr>\n",
              "    <tr>\n",
              "      <th>118</th>\n",
              "      <td>118</td>\n",
              "      <td>2023-10-09 09:00:00</td>\n",
              "      <td>22.26</td>\n",
              "      <td>44</td>\n",
              "      <td>Madrid</td>\n",
              "    </tr>\n",
              "    <tr>\n",
              "      <th>119</th>\n",
              "      <td>119</td>\n",
              "      <td>2023-10-09 12:00:00</td>\n",
              "      <td>26.43</td>\n",
              "      <td>33</td>\n",
              "      <td>Madrid</td>\n",
              "    </tr>\n",
              "  </tbody>\n",
              "</table>\n",
              "<p>120 rows × 5 columns</p>\n",
              "</div>\n",
              "    <div class=\"colab-df-buttons\">\n",
              "\n",
              "  <div class=\"colab-df-container\">\n",
              "    <button class=\"colab-df-convert\" onclick=\"convertToInteractive('df-f1969191-d301-4221-a262-0560ad028658')\"\n",
              "            title=\"Convert this dataframe to an interactive table.\"\n",
              "            style=\"display:none;\">\n",
              "\n",
              "  <svg xmlns=\"http://www.w3.org/2000/svg\" height=\"24px\" viewBox=\"0 -960 960 960\">\n",
              "    <path d=\"M120-120v-720h720v720H120Zm60-500h600v-160H180v160Zm220 220h160v-160H400v160Zm0 220h160v-160H400v160ZM180-400h160v-160H180v160Zm440 0h160v-160H620v160ZM180-180h160v-160H180v160Zm440 0h160v-160H620v160Z\"/>\n",
              "  </svg>\n",
              "    </button>\n",
              "\n",
              "  <style>\n",
              "    .colab-df-container {\n",
              "      display:flex;\n",
              "      gap: 12px;\n",
              "    }\n",
              "\n",
              "    .colab-df-convert {\n",
              "      background-color: #E8F0FE;\n",
              "      border: none;\n",
              "      border-radius: 50%;\n",
              "      cursor: pointer;\n",
              "      display: none;\n",
              "      fill: #1967D2;\n",
              "      height: 32px;\n",
              "      padding: 0 0 0 0;\n",
              "      width: 32px;\n",
              "    }\n",
              "\n",
              "    .colab-df-convert:hover {\n",
              "      background-color: #E2EBFA;\n",
              "      box-shadow: 0px 1px 2px rgba(60, 64, 67, 0.3), 0px 1px 3px 1px rgba(60, 64, 67, 0.15);\n",
              "      fill: #174EA6;\n",
              "    }\n",
              "\n",
              "    .colab-df-buttons div {\n",
              "      margin-bottom: 4px;\n",
              "    }\n",
              "\n",
              "    [theme=dark] .colab-df-convert {\n",
              "      background-color: #3B4455;\n",
              "      fill: #D2E3FC;\n",
              "    }\n",
              "\n",
              "    [theme=dark] .colab-df-convert:hover {\n",
              "      background-color: #434B5C;\n",
              "      box-shadow: 0px 1px 3px 1px rgba(0, 0, 0, 0.15);\n",
              "      filter: drop-shadow(0px 1px 2px rgba(0, 0, 0, 0.3));\n",
              "      fill: #FFFFFF;\n",
              "    }\n",
              "  </style>\n",
              "\n",
              "    <script>\n",
              "      const buttonEl =\n",
              "        document.querySelector('#df-f1969191-d301-4221-a262-0560ad028658 button.colab-df-convert');\n",
              "      buttonEl.style.display =\n",
              "        google.colab.kernel.accessAllowed ? 'block' : 'none';\n",
              "\n",
              "      async function convertToInteractive(key) {\n",
              "        const element = document.querySelector('#df-f1969191-d301-4221-a262-0560ad028658');\n",
              "        const dataTable =\n",
              "          await google.colab.kernel.invokeFunction('convertToInteractive',\n",
              "                                                    [key], {});\n",
              "        if (!dataTable) return;\n",
              "\n",
              "        const docLinkHtml = 'Like what you see? Visit the ' +\n",
              "          '<a target=\"_blank\" href=https://colab.research.google.com/notebooks/data_table.ipynb>data table notebook</a>'\n",
              "          + ' to learn more about interactive tables.';\n",
              "        element.innerHTML = '';\n",
              "        dataTable['output_type'] = 'display_data';\n",
              "        await google.colab.output.renderOutput(dataTable, element);\n",
              "        const docLink = document.createElement('div');\n",
              "        docLink.innerHTML = docLinkHtml;\n",
              "        element.appendChild(docLink);\n",
              "      }\n",
              "    </script>\n",
              "  </div>\n",
              "\n",
              "\n",
              "<div id=\"df-24ebbc65-ae11-4e2e-b5a1-9afa8d59943a\">\n",
              "  <button class=\"colab-df-quickchart\" onclick=\"quickchart('df-24ebbc65-ae11-4e2e-b5a1-9afa8d59943a')\"\n",
              "            title=\"Suggest charts.\"\n",
              "            style=\"display:none;\">\n",
              "\n",
              "<svg xmlns=\"http://www.w3.org/2000/svg\" height=\"24px\"viewBox=\"0 0 24 24\"\n",
              "     width=\"24px\">\n",
              "    <g>\n",
              "        <path d=\"M19 3H5c-1.1 0-2 .9-2 2v14c0 1.1.9 2 2 2h14c1.1 0 2-.9 2-2V5c0-1.1-.9-2-2-2zM9 17H7v-7h2v7zm4 0h-2V7h2v10zm4 0h-2v-4h2v4z\"/>\n",
              "    </g>\n",
              "</svg>\n",
              "  </button>\n",
              "\n",
              "<style>\n",
              "  .colab-df-quickchart {\n",
              "      --bg-color: #E8F0FE;\n",
              "      --fill-color: #1967D2;\n",
              "      --hover-bg-color: #E2EBFA;\n",
              "      --hover-fill-color: #174EA6;\n",
              "      --disabled-fill-color: #AAA;\n",
              "      --disabled-bg-color: #DDD;\n",
              "  }\n",
              "\n",
              "  [theme=dark] .colab-df-quickchart {\n",
              "      --bg-color: #3B4455;\n",
              "      --fill-color: #D2E3FC;\n",
              "      --hover-bg-color: #434B5C;\n",
              "      --hover-fill-color: #FFFFFF;\n",
              "      --disabled-bg-color: #3B4455;\n",
              "      --disabled-fill-color: #666;\n",
              "  }\n",
              "\n",
              "  .colab-df-quickchart {\n",
              "    background-color: var(--bg-color);\n",
              "    border: none;\n",
              "    border-radius: 50%;\n",
              "    cursor: pointer;\n",
              "    display: none;\n",
              "    fill: var(--fill-color);\n",
              "    height: 32px;\n",
              "    padding: 0;\n",
              "    width: 32px;\n",
              "  }\n",
              "\n",
              "  .colab-df-quickchart:hover {\n",
              "    background-color: var(--hover-bg-color);\n",
              "    box-shadow: 0 1px 2px rgba(60, 64, 67, 0.3), 0 1px 3px 1px rgba(60, 64, 67, 0.15);\n",
              "    fill: var(--button-hover-fill-color);\n",
              "  }\n",
              "\n",
              "  .colab-df-quickchart-complete:disabled,\n",
              "  .colab-df-quickchart-complete:disabled:hover {\n",
              "    background-color: var(--disabled-bg-color);\n",
              "    fill: var(--disabled-fill-color);\n",
              "    box-shadow: none;\n",
              "  }\n",
              "\n",
              "  .colab-df-spinner {\n",
              "    border: 2px solid var(--fill-color);\n",
              "    border-color: transparent;\n",
              "    border-bottom-color: var(--fill-color);\n",
              "    animation:\n",
              "      spin 1s steps(1) infinite;\n",
              "  }\n",
              "\n",
              "  @keyframes spin {\n",
              "    0% {\n",
              "      border-color: transparent;\n",
              "      border-bottom-color: var(--fill-color);\n",
              "      border-left-color: var(--fill-color);\n",
              "    }\n",
              "    20% {\n",
              "      border-color: transparent;\n",
              "      border-left-color: var(--fill-color);\n",
              "      border-top-color: var(--fill-color);\n",
              "    }\n",
              "    30% {\n",
              "      border-color: transparent;\n",
              "      border-left-color: var(--fill-color);\n",
              "      border-top-color: var(--fill-color);\n",
              "      border-right-color: var(--fill-color);\n",
              "    }\n",
              "    40% {\n",
              "      border-color: transparent;\n",
              "      border-right-color: var(--fill-color);\n",
              "      border-top-color: var(--fill-color);\n",
              "    }\n",
              "    60% {\n",
              "      border-color: transparent;\n",
              "      border-right-color: var(--fill-color);\n",
              "    }\n",
              "    80% {\n",
              "      border-color: transparent;\n",
              "      border-right-color: var(--fill-color);\n",
              "      border-bottom-color: var(--fill-color);\n",
              "    }\n",
              "    90% {\n",
              "      border-color: transparent;\n",
              "      border-bottom-color: var(--fill-color);\n",
              "    }\n",
              "  }\n",
              "</style>\n",
              "\n",
              "  <script>\n",
              "    async function quickchart(key) {\n",
              "      const quickchartButtonEl =\n",
              "        document.querySelector('#' + key + ' button');\n",
              "      quickchartButtonEl.disabled = true;  // To prevent multiple clicks.\n",
              "      quickchartButtonEl.classList.add('colab-df-spinner');\n",
              "      try {\n",
              "        const charts = await google.colab.kernel.invokeFunction(\n",
              "            'suggestCharts', [key], {});\n",
              "      } catch (error) {\n",
              "        console.error('Error during call to suggestCharts:', error);\n",
              "      }\n",
              "      quickchartButtonEl.classList.remove('colab-df-spinner');\n",
              "      quickchartButtonEl.classList.add('colab-df-quickchart-complete');\n",
              "    }\n",
              "    (() => {\n",
              "      let quickchartButtonEl =\n",
              "        document.querySelector('#df-24ebbc65-ae11-4e2e-b5a1-9afa8d59943a button');\n",
              "      quickchartButtonEl.style.display =\n",
              "        google.colab.kernel.accessAllowed ? 'block' : 'none';\n",
              "    })();\n",
              "  </script>\n",
              "</div>\n",
              "    </div>\n",
              "  </div>\n"
            ]
          },
          "metadata": {},
          "execution_count": 58
        }
      ]
    },
    {
      "cell_type": "code",
      "source": [
        "forecast_df['date'] = pd.to_datetime(forecast_df['date'])"
      ],
      "metadata": {
        "id": "KdeMmLar_el-"
      },
      "execution_count": 59,
      "outputs": []
    },
    {
      "cell_type": "code",
      "source": [
        "import pandas as pd\n",
        "\n",
        "def forecast_to_df(forecast):\n",
        "    # Get the city's name\n",
        "    city_name = forecast['city']['name']\n",
        "\n",
        "    # Create a list to store each forecast's data\n",
        "    data = []\n",
        "\n",
        "    # Go through the list of forecasts\n",
        "    for item in forecast['list']:\n",
        "        # Get the date from the timestamp\n",
        "        date = pd.to_datetime(item['dt'], unit='s').date()\n",
        "\n",
        "        # Get the weather data\n",
        "        temperature = item['main']['temp']\n",
        "        temp_min = item['main']['temp_min']\n",
        "        temp_max = item['main']['temp_max']\n",
        "        humidity = item['main']['humidity']\n",
        "        weather = item['weather'][0]['main']\n",
        "\n",
        "        # Add the data to the list\n",
        "        data.append([city_name, date, temperature, temp_min, temp_max, humidity, weather])\n",
        "\n",
        "    # Create a DataFrame from the data\n",
        "    df = pd.DataFrame(data, columns=['City', 'Date', 'Temperature', 'Temp Min', 'Temp Max', 'Humidity', 'Weather'])\n",
        "\n",
        "    return df\n"
      ],
      "metadata": {
        "id": "5YAG9Q-fBMMl"
      },
      "execution_count": 60,
      "outputs": []
    },
    {
      "cell_type": "code",
      "source": [
        "# Create a list to store the DataFrames\n",
        "dfs = []\n",
        "\n",
        "# Create a DataFrame for each city\n",
        "for city_forecast in forecast_data:\n",
        "    df = forecast_to_df(city_forecast)\n",
        "    dfs.append(df)\n",
        "\n",
        "# Concatenate the DataFrames\n",
        "weather_df = pd.concat(dfs, ignore_index=True)\n"
      ],
      "metadata": {
        "id": "UHbcKnCrBPXg"
      },
      "execution_count": 61,
      "outputs": []
    },
    {
      "cell_type": "code",
      "source": [
        "import matplotlib.pyplot as plt\n",
        "import seaborn as sns\n",
        "\n",
        "# Set the style of the plot\n",
        "sns.set_style(\"whitegrid\")\n",
        "\n",
        "# Get the list of unique cities\n",
        "cities = weather_df['City'].unique()\n",
        "\n",
        "# Create a new figure\n",
        "plt.figure(figsize=(15, 8))\n",
        "\n",
        "# Create a line plot for each city\n",
        "for city in cities:\n",
        "    city_df = weather_df[weather_df['City'] == city]\n",
        "    sns.lineplot(x='Date', y='Temperature', data=city_df, label=city)\n",
        "\n",
        "# Add a legend and labels\n",
        "plt.legend()\n",
        "plt.xlabel('Date')\n",
        "plt.ylabel('Temperature (°C)')\n",
        "plt.title('5-Day Weather Forecast')\n",
        "\n",
        "# Rotate x-axis labels for better readability\n",
        "plt.xticks(rotation=45)\n",
        "\n",
        "# Show the plot\n",
        "plt.show()\n",
        "\n"
      ],
      "metadata": {
        "colab": {
          "base_uri": "https://localhost:8080/",
          "height": 771
        },
        "id": "RPEhSn5NBSAn",
        "outputId": "295984ba-fd44-4d28-9eb7-6b26286e32dd"
      },
      "execution_count": 62,
      "outputs": [
        {
          "output_type": "display_data",
          "data": {
            "text/plain": [
              "<Figure size 1500x800 with 1 Axes>"
            ],
            "image/png": "[encoded data removed]"
          },
          "metadata": {}
        }
      ]
    },
    {
      "cell_type": "markdown",
      "source": [
        "#OLD"
      ],
      "metadata": {
        "id": "ON7wtVeZwQqe"
      }
    },
    {
      "cell_type": "code",
      "source": [
        "def scrape_city_info(Berlin):\n",
        "    r = requests.get(f\"https://en.wikipedia.org/wiki/{Berlin}\")\n",
        "    soup = BeautifulSoup(r.content, 'html.parser')\n",
        "    table = soup.find('table', {'class': 'infobox ib-settlement vcard'})\n",
        "\n",
        "    data = {}\n",
        "    data['City'] = Berlin\n",
        "\n",
        "    # Get all table rows\n",
        "    rows = table.findAll('tr')\n",
        "\n",
        "    for row in rows:\n",
        "        # Get all headers within the row\n",
        "        headers = row.findAll('th')\n",
        "        for header in headers:\n",
        "            if \"Population\" in header.get_text():\n",
        "                # Get the first 'td' that follows the 'th'\n",
        "                population = row.find('td').get_text().strip()\n",
        "                # Remove reference links ([1], [2], etc.)\n",
        "                population = re.sub(r'\\[.*?\\]+', '', population)\n",
        "                data['Population'] = population\n",
        "            if \"Area\" in header.get_text():\n",
        "                # Get the first 'td' that follows the 'th'\n",
        "                area = row.find('td').get_text().strip()\n",
        "                # Remove reference links ([1], [2], etc.)\n",
        "                area = re.sub(r'\\[.*?\\]+', '', area)\n",
        "                data['Area'] = area\n",
        "\n",
        "    # Get coordinates\n",
        "    geo_span = soup.find('span', {'class': 'geo'})\n",
        "    if geo_span:\n",
        "        coordinates = geo_span.get_text().strip()\n",
        "        data['Coordinates'] = coordinates\n",
        "\n",
        "    return data\n"
      ],
      "metadata": {
        "id": "wOlMmRPftlyv"
      },
      "execution_count": 37,
      "outputs": []
    },
    {
      "cell_type": "code",
      "source": [
        "def scrape_city_info(Berlin):\n",
        "    r = requests.get(f\"https://en.wikipedia.org/wiki/{Berlin}\")\n",
        "    soup = BeautifulSoup(r.content, 'html.parser')\n",
        "    table = soup.find('table', {'class': 'infobox ib-settlement vcard'})\n",
        "\n",
        "    data = {}\n",
        "    data['City'] = Berlin\n",
        "\n",
        "    # Get all table rows\n",
        "    rows = table.findAll('tr')\n",
        "    for row in rows:\n",
        "        # Get all table headers\n",
        "        headers = row.findAll('th', {'class': 'infobox-header'})\n",
        "        for header in headers:\n",
        "            if \"Population\" in header.get_text():\n",
        "                # Get next sibling (the value of the population)\n",
        "                population = header.find_next('td', {'class': 'infobox-full-data'}).get_text().strip()\n",
        "                data['Population'] = population\n",
        "            if \"Area\" in header.get_text():\n",
        "                # Get next sibling (the value of the area)\n",
        "                area = header.find_next('td', {'class': 'infobox-full-data'}).get_text().strip()\n",
        "                data['Area'] = area\n",
        "\n",
        "    # Get coordinates\n",
        "    geo_span = soup.find('span', {'class': 'geo'})\n",
        "    if geo_span:\n",
        "        coordinates = geo_span.get_text().strip()\n",
        "        data['Coordinates'] = coordinates\n",
        "\n",
        "    return data\n"
      ],
      "metadata": {
        "id": "um6Ou3susdsy"
      },
      "execution_count": 38,
      "outputs": []
    }
  ]
}